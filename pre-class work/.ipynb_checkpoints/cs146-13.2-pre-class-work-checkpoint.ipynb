{
 "cells": [
  {
   "cell_type": "markdown",
   "metadata": {},
   "source": [
    "# Metropolis-Hastings Algorithm"
   ]
  },
  {
   "cell_type": "code",
   "execution_count": 1,
   "metadata": {},
   "outputs": [],
   "source": [
    "import scipy.stats as sts\n",
    "import numpy as np\n",
    "import matplotlib.pyplot as plt"
   ]
  },
  {
   "cell_type": "code",
   "execution_count": 2,
   "metadata": {},
   "outputs": [],
   "source": [
    "def target_dist(x):\n",
    "    return sts.norm(-4,0.5**2).pdf(x)+sts.norm(4,1**2).pdf(x)"
   ]
  },
  {
   "cell_type": "code",
   "execution_count": 8,
   "metadata": {},
   "outputs": [],
   "source": [
    "def proposal_dist(x,x0,para):\n",
    "    return sts.norm(x0,para**2).pdf(x)\n",
    "\n",
    "def proposal_rvs(x0,para):\n",
    "    return sts.norm.rvs(x0,para**2)"
   ]
  },
  {
   "cell_type": "code",
   "execution_count": 12,
   "metadata": {},
   "outputs": [
    {
     "data": {
      "text/plain": [
       "-0.6922973337171365"
      ]
     },
     "execution_count": 12,
     "metadata": {},
     "output_type": "execute_result"
    }
   ],
   "source": [
    "proposal_rvs(1,1)"
   ]
  },
  {
   "cell_type": "code",
   "execution_count": 22,
   "metadata": {},
   "outputs": [],
   "source": [
    "def metropolis_hastings(steps, para):\n",
    "    # pick initial point\n",
    "    samples = [sts.uniform.rvs(-6,8)] \n",
    "    for i in range(steps):\n",
    "        x_t = samples[-1]\n",
    "        x_star = proposal_rvs(x_t,para)\n",
    "        acceptance = target_dist(x_star)/target_dist(x_t)*proposal_dist(x_t,x_star,para)/proposal_dist(x_star,x_t,para)\n",
    "        if np.random.random()<=min(1,acceptance):\n",
    "            #accept\n",
    "            samples.append(x_star)\n",
    "        else:\n",
    "            samples.append(x_t)\n",
    "    return samples"
   ]
  },
  {
   "cell_type": "code",
   "execution_count": 29,
   "metadata": {},
   "outputs": [],
   "source": [
    "sample05 = metropolis_hastings(1000,0.5)\n",
    "sample1 = metropolis_hastings(1000,1)\n",
    "sample2 = metropolis_hastings(1000,2)\n",
    "sample4 = metropolis_hastings(1000,4)\n"
   ]
  },
  {
   "cell_type": "code",
   "execution_count": null,
   "metadata": {},
   "outputs": [],
   "source": []
  },
  {
   "cell_type": "code",
   "execution_count": 34,
   "metadata": {},
   "outputs": [
    {
     "data": {
      "image/png": "[encoded data removed]",
      "text/plain": [
       "<Figure size 432x288 with 1 Axes>"
      ]
     },
     "metadata": {
      "needs_background": "light"
     },
     "output_type": "display_data"
    }
   ],
   "source": [
    "x = np.linspace(-6,8,1000)\n",
    "plt.plot(sample05,np.linspace(0,1,1001))\n",
    "plt.scatter([()])\n",
    "plt.plot(x,target_dist(x))\n",
    "plt.show()"
   ]
  },
  {
   "cell_type": "code",
   "execution_count": null,
   "metadata": {},
   "outputs": [],
   "source": [
    "x = np.linspace(-6,8,1000)\n",
    "plt.plot(sample05,np.linspace(0,1,1001))\n",
    "plt.plot(x,target_dist(x))\n",
    "plt.show()"
   ]
  },
  {
   "cell_type": "code",
   "execution_count": 26,
   "metadata": {},
   "outputs": [],
   "source": [
    "def plot_acf(x):\n",
    "    '''\n",
    "    Plot the autocorrelation function for a series x. This corresponds to the\n",
    "    acf() function in R. The series x is detrended by subtracting the mean of\n",
    "    the series before computing the autocorrelation.\n",
    "    The autocorrelation at lag = 0 is always 1 since the series is perfectly\n",
    "    correlated with itself. You can ignore this value. The autocorrelation at\n",
    "    all other values should be as small as possible, since independent samples\n",
    "    have no correlation.\n",
    "    '''\n",
    "    from scipy import signal\n",
    "    import matplotlib.pyplot as plt\n",
    "    plt.acorr(\n",
    "    x, maxlags=20, detrend=lambda x: signal.detrend(x, type='constant'))"
   ]
  },
  {
   "cell_type": "code",
   "execution_count": 27,
   "metadata": {},
   "outputs": [
    {
     "data": {
      "image/png": "[encoded data removed]",
      "text/plain": [
       "<Figure size 432x288 with 1 Axes>"
      ]
     },
     "metadata": {
      "needs_background": "light"
     },
     "output_type": "display_data"
    }
   ],
   "source": [
    "plot_acf(sample05)"
   ]
  },
  {
   "cell_type": "code",
   "execution_count": null,
   "metadata": {},
   "outputs": [],
   "source": []
  }
 ],
 "metadata": {
  "kernelspec": {
   "display_name": "Python 3",
   "language": "python",
   "name": "python3"
  },
  "language_info": {
   "codemirror_mode": {
    "name": "ipython",
    "version": 3
   },
   "file_extension": ".py",
   "mimetype": "text/x-python",
   "name": "python",
   "nbconvert_exporter": "python",
   "pygments_lexer": "ipython3",
   "version": "3.7.7"
  }
 },
 "nbformat": 4,
 "nbformat_minor": 4
}
