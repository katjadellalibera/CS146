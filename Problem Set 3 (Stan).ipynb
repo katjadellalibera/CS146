{
 "cells": [
  {
   "cell_type": "code",
   "execution_count": 29,
   "metadata": {},
   "outputs": [],
   "source": [
    "import numpy as np\n",
    "from scipy import stats\n",
    "import matplotlib.pyplot as plt\n",
    "import pystan"
   ]
  },
  {
   "cell_type": "markdown",
   "metadata": {},
   "source": [
    "# 1. Call Center Data\n",
    "Data: waiting times for the 13th hour of a day in a call center<br>\n",
    "Prior distribution: Gamma distribution with $\\alpha = 1$ and $\\beta = 0.25$<br>\n",
    "Likelihood function: exponential with parameter $\\lambda$<br>\n",
    "Parameters: rate $\\lambda$<br>\n",
    "Posterior: Gamma distribution over $\\lambda$<br>"
   ]
  },
  {
   "cell_type": "code",
   "execution_count": 30,
   "metadata": {},
   "outputs": [],
   "source": [
    "## import the dataset (code from call_center_solution.ipynb)\n",
    "waiting_times_day = np.loadtxt('call_center.csv')\n",
    "\n",
    "# Split the data into 24 separate series, one for each hour of the day\n",
    "current_time = 0\n",
    "waiting_times_per_hour = [[] for _ in range(24)]  # Make 24 empty lists, one per hour\n",
    "for t in waiting_times_day:\n",
    "    current_hour = int(current_time // 60)\n",
    "    current_time += t\n",
    "    waiting_times_per_hour[current_hour].append(t)\n",
    "    \n",
    "# use just the 13th hour of the day\n",
    "waiting_times_hour = waiting_times_per_hour[13]"
   ]
  },
  {
   "cell_type": "code",
   "execution_count": 31,
   "metadata": {},
   "outputs": [],
   "source": [
    "call_center_data = {\n",
    "    '13': {\n",
    "        'alpha': 1,  # fixed prior hyperparameters for the\n",
    "        'beta': 0.25,   # gamma distribution\n",
    "        'num_calls': len(waiting_times_hour),  # number of calls coming in\n",
    "        'waiting_times': waiting_times_hour} # data set on waiting times\n",
    "    }"
   ]
  },
  {
   "cell_type": "code",
   "execution_count": 49,
   "metadata": {},
   "outputs": [],
   "source": [
    "calls_stan_code = \"\"\"\n",
    "\n",
    "// The data block contains all known quantities - typically the observed\n",
    "// data and any constant hyperparameters.\n",
    "data {  \n",
    "    int<lower=1> num_calls;  // number of calls\n",
    "    real<lower=0> waiting_times[num_calls];  // waiting times\n",
    "    real<lower=0> alpha;  // fixed prior hyperparameter\n",
    "    real<lower=0> beta;   // fixed prior hyperparameter\n",
    "}\n",
    "\n",
    "// All unknown quantities, in this case the waiting time lambda\n",
    "parameters {\n",
    "    real lambd;  // rate lambda for the exponential\n",
    "}\n",
    "\n",
    "// The model block contains all probability distributions in the model.\n",
    "model {\n",
    "    lambd ~ gamma(alpha, beta);  // prior over lambda\n",
    "    for(i in 1:num_calls) {\n",
    "        waiting_times[i] ~ exponential(lambd);  // likelihood function\n",
    "    }\n",
    "}\n",
    "\n",
    "\"\"\""
   ]
  },
  {
   "cell_type": "code",
   "execution_count": 50,
   "metadata": {},
   "outputs": [
    {
     "name": "stderr",
     "output_type": "stream",
     "text": [
      "INFO:pystan:COMPILING THE C++ CODE FOR MODEL anon_model_50fe82232f7cd8b2736c8b3bf1959587 NOW.\n"
     ]
    }
   ],
   "source": [
    "calls_stan_model = pystan.StanModel(model_code=calls_stan_code)"
   ]
  },
  {
   "cell_type": "code",
   "execution_count": 55,
   "metadata": {},
   "outputs": [
    {
     "name": "stdout",
     "output_type": "stream",
     "text": [
      "Inference for Stan model: anon_model_50fe82232f7cd8b2736c8b3bf1959587.\n",
      "4 chains, each with iter=2000; warmup=1000; thin=1; \n",
      "post-warmup draws per chain=1000, total post-warmup draws=4000.\n",
      "\n",
      "        mean se_mean     sd     1%    50%    99%  n_eff   Rhat\n",
      "lambd   6.35  8.9e-3   0.33   5.62   6.35   7.15   1346    1.0\n",
      "\n",
      "Samples were drawn using NUTS at Wed Oct  7 23:14:43 2020.\n",
      "For each parameter, n_eff is a crude measure of effective sample size,\n",
      "and Rhat is the potential scale reduction factor on split chains (at \n",
      "convergence, Rhat=1).\n"
     ]
    }
   ],
   "source": [
    "calls_stan_results = calls_stan_model.sampling(data=call_center_data['13'])\n",
    "print(calls_stan_results.stansummary(pars=['lambd'], probs=[0.01, 0.5, 0.99]))"
   ]
  },
  {
   "cell_type": "code",
   "execution_count": 60,
   "metadata": {},
   "outputs": [
    {
     "name": "stdout",
     "output_type": "stream",
     "text": [
      "Posterior 98% confidence interval for lambda: [5.62041666 7.14781511]\n"
     ]
    },
    {
     "data": {
      "image/png": "[encoded data removed]",
      "text/plain": [
       "<Figure size 432x288 with 1 Axes>"
      ]
     },
     "metadata": {
      "needs_background": "light"
     },
     "output_type": "display_data"
    }
   ],
   "source": [
    "posterior_calls_samples = calls_stan_results.extract()\n",
    "plt.hist(posterior_calls_samples['lambd'], bins=50, density=True)\n",
    "plt.xlabel(\"lambda\")\n",
    "plt.title('Sampled posterior probability density for lambda')\n",
    "print(\n",
    "    \"Posterior 98% confidence interval for lambda:\",\n",
    "    np.percentile(posterior_calls_samples['lambd'], [1, 99]))\n",
    "plt.show()"
   ]
  },
  {
   "cell_type": "markdown",
   "metadata": {},
   "source": [
    "# 2. Normal likelihood with normal-inverse-gamma prior"
   ]
  },
  {
   "cell_type": "code",
   "execution_count": 65,
   "metadata": {},
   "outputs": [],
   "source": [
    "#define dataset \n",
    "raw_norm_inv_gamma_data = np.array([3.54551763569501, 4.23799861761927, 4.72138425951628, -0.692265320368236, 3.04473513808788, 3.10721270732507, 3.42982225852764, 3.12153903971176, 3.60532628639808, 2.46561737557325, 1.64059465916131, 2.4621623937158, 2.76744495617481, 2.11580054750407, 5.14077208608354, 4.90288499104252, 1.43357579078348, 4.78997817363558, 1.93633438207439, 2.43698838097178, 3.95389148701877, 2.4242295507716, 2.90256268679023, 2.90931728045901, 0.658072819386888, 3.05946763895983, 3.42615331539605, 2.68842833004417, 2.35850130765166, 2.20014998540933, 4.73846511350084, 4.19839721414451, 2.11805510171691, -0.572742936038015, 0.389413982010623, 3.87846130744249, 1.34057656890858, 0.7235748351719, 5.11042369840174, 4.00747556696571, 3.18080956726965, 3.24677964069676, 5.1154659863626, 1.80276616697155, 0.305877679021404, -0.449168307882718, 4.63705561194774, 1.37783714058301, 4.9608149859515, 6.7764195802069, 1.75515522922399, 7.04457337435215, 0.625185284955128, 2.25130734369064, 2.19770178119255, 2.16858257249432, 6.25367644481438, 0.116081323476489, 2.06315857864341, 1.82409781471718, 5.15226741230987, 2.03408231293173, -1.12450854337596, 5.03511270642234, 2.03841989653263, 5.80911741751597, 2.31718128783245, 4.97575010580997, 3.34262752222776, -0.786983904253601, 0.777362359850013, 0.975825009321195, 3.76354577515958, 7.27215002907876, 1.35404089480189, 3.76567940257157, 3.48573993343334, 1.85976988586156, 1.93567061960716, 5.31071812003942, 2.96832987672751, 3.32378908637275, 2.61631960054551, 5.80897964052825, 4.95215217171488, 1.32036772796131, 3.79932542233371, 3.08108492766309, 2.6734110081666, -0.14251851138521, 2.48744375588965, 3.98463042123415, 6.32781680028, 4.0029172024315, 4.23210369459457, 1.71412938967325, 5.16492114963802, 2.53409673107906, 4.77346963973334, 3.34088878725551, 4.77681472750664, 3.81135755590976, 1.14054269983137, 1.42057452397702, 0.132142311125433, 7.12577254064672, 4.85422012781764, 4.15745720676399, 4.48763147363348, 1.56060322283629, 2.64821761542887, 1.26655351354548, 4.48497722937931, 4.3286302403783, 4.26157679512625, 4.0597558651364, 5.14051109132496, 2.5660348362221, 1.10764013818617, 0.386889523012303, 3.54150473246237, 3.57480214382351, 1.95150869584847, 2.70688970563118, 2.47971849820016, 6.50838037000679, 4.01511556826974, 1.11562740835344, 5.02637639472439, 4.38184491686864, 5.60423144047386, 2.40067408379298, 5.7849941378344, 2.37225791084559, 6.86031465910273, 4.09214858239736, 6.85994063692621, 3.62202415158781, -1.11220646958158, 3.73920971696866, 3.24533871512216, 1.28724203643002, 0.291152541773164, 0.368630935755111, 6.71607270510525, 5.42278455200833, 5.35188416119281, 2.305874586163, -1.85878097203032, 2.69877382351447, 4.84121860550417, 4.40973060799391, 5.04399320650774, 2.68632252661298, 6.06531610659912, 3.11881325011993, 3.45532087005125, 3.08442259840346, 4.43564424136733, 2.84252623135804, 1.50536798885106, 1.48868622407603, 2.07322837615663, 2.5476910210998, 5.66941808257884, 2.16731067416426, 2.49843958833905, 3.94586413879977, 0.316433764679541, -0.608937441815983, 2.5943436558557, 1.05516869528337, 2.1447601332725, 6.65846634141906, 2.1771555267834, 5.23953812029442, 3.53629759842647, 6.03263538017003, 3.85739159396599, 5.95093453004638, 1.12856987160476, 3.5559912886093, 2.21974864244489, 3.38471394882135, -1.90805399279409, 3.5113699258973, 4.49319955412346, 5.10507952638867, 1.08277895384184, 4.58403638422759, 1.37304994426824, 4.17566975753523, 3.36454182510378, 0.177136582644021, 2.91337423388405, 3.22796455457526, 2.80124198378441, 1.95189718582788, 3.37659263896246, -1.6463045238231])\n",
    "norm_inv_gamma_data = {\n",
    "        'mu': 0,  # prior mean centered at 0\n",
    "        'nu': 0.054,   # nu indicates the uncertainty of the prior mean\n",
    "        'alpha' : 1.12, # alpha and beta govern the marginal prior over the variance\n",
    "        'beta' : 0.4,\n",
    "        'data_length': len(raw_norm_inv_gamma_data),  # number of data points\n",
    "        'norm_data': raw_norm_inv_gamma_data} # data set"
   ]
  },
  {
   "cell_type": "code",
   "execution_count": 70,
   "metadata": {},
   "outputs": [],
   "source": [
    "norm_inv_gamma_stan_code = \"\"\"\n",
    "\n",
    "// The data block contains all known quantities - typically the observed\n",
    "// data and any constant hyperparameters.\n",
    "data {  \n",
    "    int<lower=1> data_length;  // number of data points\n",
    "    real norm_data[data_length];  // data points\n",
    "    real mu; // fixed prior hyperparameter\n",
    "    real nu; // fixed prior hyperparameter\n",
    "    real<lower=0> alpha;  // fixed prior hyperparameter\n",
    "    real<lower=0> beta;   // fixed prior hyperparameter\n",
    "}\n",
    "\n",
    "// All unknown quantities, in this case the mean and standard deviation of the data\n",
    "parameters {\n",
    "    real x;  // mean of the data\n",
    "    real<lower=0> sigma2; // variance of the data\n",
    "}\n",
    "\n",
    "// The model block contains all probability distributions in the model.\n",
    "model {\n",
    "    x ~ inv_gamma(alpha, beta);  // prior over mean\n",
    "    sigma2 ~ normal(mu,sqrt(sigma2/nu)); //prior over variance \n",
    "    for(i in 1:data_length) {\n",
    "        norm_data[i] ~ normal(x,sigma2);  // likelihood function\n",
    "    }\n",
    "}\n",
    "\n",
    "\"\"\""
   ]
  },
  {
   "cell_type": "code",
   "execution_count": 71,
   "metadata": {},
   "outputs": [
    {
     "name": "stderr",
     "output_type": "stream",
     "text": [
      "INFO:pystan:COMPILING THE C++ CODE FOR MODEL anon_model_7a171de86991541fb4aeae3726cd40f6 NOW.\n"
     ]
    }
   ],
   "source": [
    "norm_inv_gamma_stan_model = pystan.StanModel(model_code=norm_inv_gamma_stan_code)"
   ]
  },
  {
   "cell_type": "code",
   "execution_count": 72,
   "metadata": {},
   "outputs": [
    {
     "name": "stdout",
     "output_type": "stream",
     "text": [
      "Inference for Stan model: anon_model_7a171de86991541fb4aeae3726cd40f6.\n",
      "4 chains, each with iter=2000; warmup=1000; thin=1; \n",
      "post-warmup draws per chain=1000, total post-warmup draws=4000.\n",
      "\n",
      "         mean se_mean     sd   2.5%    50%  97.5%  n_eff   Rhat\n",
      "x        3.05  2.5e-3   0.14   2.79   3.05   3.31   2911    1.0\n",
      "sigma2   1.92  1.8e-3    0.1   1.74   1.91   2.12   2997    1.0\n",
      "\n",
      "Samples were drawn using NUTS at Thu Oct  8 00:01:56 2020.\n",
      "For each parameter, n_eff is a crude measure of effective sample size,\n",
      "and Rhat is the potential scale reduction factor on split chains (at \n",
      "convergence, Rhat=1).\n"
     ]
    }
   ],
   "source": [
    "norm_inv_gamma_stan_results = norm_inv_gamma_stan_model.sampling(data=norm_inv_gamma_data)\n",
    "print(norm_inv_gamma_stan_results.stansummary(pars=['x','sigma2'], probs=[0.025, 0.5, 0.975]))"
   ]
  },
  {
   "cell_type": "code",
   "execution_count": null,
   "metadata": {},
   "outputs": [],
   "source": [
    "posterior_norm_inv_gamma_samples = norm_inv_gamma_stan_results.extract(10)\n",
    "\n",
    "plt.hist(posterior_calls_samples['lambd'], bins=50, density=True)\n",
    "plt.xlabel(\"lambda\")\n",
    "plt.title('Sampled posterior probability density for lambda')\n",
    "print(\n",
    "    \"Posterior 98% confidence interval for lambda:\",\n",
    "    np.percentile(posterior_calls_samples['lambd'], [1, 99]))\n",
    "plt.show()"
   ]
  },
  {
   "cell_type": "markdown",
   "metadata": {},
   "source": [
    "# 3. Log-normal HRTEM data"
   ]
  },
  {
   "cell_type": "code",
   "execution_count": null,
   "metadata": {},
   "outputs": [],
   "source": []
  }
 ],
 "metadata": {
  "kernelspec": {
   "display_name": "Python 3",
   "language": "python",
   "name": "python3"
  },
  "language_info": {
   "codemirror_mode": {
    "name": "ipython",
    "version": 3
   },
   "file_extension": ".py",
   "mimetype": "text/x-python",
   "name": "python",
   "nbconvert_exporter": "python",
   "pygments_lexer": "ipython3",
   "version": "3.7.7"
  }
 },
 "nbformat": 4,
 "nbformat_minor": 4
}
