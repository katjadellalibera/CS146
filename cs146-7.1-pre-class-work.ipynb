{
 "cells": [
  {
   "cell_type": "markdown",
   "metadata": {},
   "source": [
    "#### Normal Approximation to Binomial data\n",
    "\n",
    "The binomial is appropriate since poll data is binomial and the sample is large enough to use the CLT"
   ]
  },
  {
   "cell_type": "code",
   "execution_count": 2,
   "metadata": {},
   "outputs": [],
   "source": [
    "from scipy import stats\n",
    "import numpy as np"
   ]
  },
  {
   "cell_type": "code",
   "execution_count": 10,
   "metadata": {},
   "outputs": [
    {
     "data": {
      "text/plain": [
       "(81.40614903086315, 118.59385096913685)"
      ]
     },
     "execution_count": 10,
     "metadata": {},
     "output_type": "execute_result"
    }
   ],
   "source": [
    "from scipy import stats\n",
    "\n",
    "stats.norm.interval(0.95,1000*0.1,np.sqrt(1000*0.1*0.9))"
   ]
  },
  {
   "cell_type": "markdown",
   "metadata": {},
   "source": []
  },
  {
   "cell_type": "markdown",
   "metadata": {},
   "source": [
    "#### General function"
   ]
  },
  {
   "cell_type": "code",
   "execution_count": 11,
   "metadata": {},
   "outputs": [],
   "source": [
    "def interval(n,p):\n",
    "    return stats.norm.interval(0.95,n*p,n*p*(1-p))"
   ]
  },
  {
   "cell_type": "code",
   "execution_count": 12,
   "metadata": {},
   "outputs": [],
   "source": [
    "def find_error(n,p):\n",
    "    up, down = interval(n,p)\n",
    "    return (n*p-up)/n"
   ]
  },
  {
   "cell_type": "code",
   "execution_count": 14,
   "metadata": {},
   "outputs": [
    {
     "data": {
      "text/plain": [
       "[[0.17639675860860488,\n",
       "  0.31359423752640864,\n",
       "  0.41159243675341134,\n",
       "  0.470391356289613,\n",
       "  0.4899909961350135,\n",
       "  0.470391356289613,\n",
       "  0.4115924367534114,\n",
       "  0.31359423752640864,\n",
       "  0.17639675860860485],\n",
       " [0.17639675860860488,\n",
       "  0.31359423752640864,\n",
       "  0.4115924367534114,\n",
       "  0.470391356289613,\n",
       "  0.4899909961350135,\n",
       "  0.470391356289613,\n",
       "  0.41159243675341145,\n",
       "  0.3135942375264086,\n",
       "  0.1763967586086049],\n",
       " [0.17639675860860488,\n",
       "  0.31359423752640864,\n",
       "  0.41159243675341134,\n",
       "  0.470391356289613,\n",
       "  0.4899909961350135,\n",
       "  0.470391356289613,\n",
       "  0.4115924367534114,\n",
       "  0.31359423752640864,\n",
       "  0.17639675860860485],\n",
       " [0.17639675860860488,\n",
       "  0.31359423752640864,\n",
       "  0.41159243675341134,\n",
       "  0.470391356289613,\n",
       "  0.4899909961350135,\n",
       "  0.470391356289613,\n",
       "  0.4115924367534114,\n",
       "  0.31359423752640864,\n",
       "  0.17639675860860485],\n",
       " [0.17639675860860485,\n",
       "  0.31359423752640864,\n",
       "  0.4115924367534114,\n",
       "  0.470391356289613,\n",
       "  0.4899909961350135,\n",
       "  0.470391356289613,\n",
       "  0.41159243675341145,\n",
       "  0.3135942375264086,\n",
       "  0.1763967586086048]]"
      ]
     },
     "execution_count": 14,
     "metadata": {},
     "output_type": "execute_result"
    }
   ],
   "source": [
    "lst_sample = [1000, 750, 500, 250, 100]\n",
    "lst_percent = [0.1,0.2,0.3,0.4,0.5,0.6,0.7,0.8,0.9]\n",
    "lst_result=[[] for i in range(len(lst_sample))]\n",
    "for n in lst_sample:\n",
    "    for p in lst_percent:\n",
    "        lst_result[lst_sample.index(n)].append(find_error(n, p))\n",
    "lst_result\n",
    "\n",
    "        "
   ]
  },
  {
   "cell_type": "markdown",
   "metadata": {},
   "source": [
    "Match with Results in article"
   ]
  }
 ],
 "metadata": {
  "kernelspec": {
   "display_name": "Python 3",
   "language": "python",
   "name": "python3"
  },
  "language_info": {
   "codemirror_mode": {
    "name": "ipython",
    "version": 3
   },
   "file_extension": ".py",
   "mimetype": "text/x-python",
   "name": "python",
   "nbconvert_exporter": "python",
   "pygments_lexer": "ipython3",
   "version": "3.7.7"
  }
 },
 "nbformat": 4,
 "nbformat_minor": 4
}
