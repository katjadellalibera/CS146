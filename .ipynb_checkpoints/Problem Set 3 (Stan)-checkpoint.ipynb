{
 "cells": [
  {
   "cell_type": "code",
   "execution_count": 12,
   "metadata": {},
   "outputs": [],
   "source": [
    "import numpy as np\n",
    "from scipy import stats\n",
    "import matplotlib.pyplot as plt\n",
    "import pystan"
   ]
  },
  {
   "cell_type": "markdown",
   "metadata": {},
   "source": [
    "# 1. Call Center Data\n",
    "Data: waiting times for the 13th hour of a day in a call center<br>\n",
    "Prior distribution: Gamma distribution with $\\alpha = 1$ and $\\beta = 0.25$<br>\n",
    "Likelihood function: exponential with parameter $\\lambda$<br>\n",
    "Parameters: rate $\\lambda$<br>\n",
    "Posterior: Gamma distribution over $\\lambda$<br>"
   ]
  },
  {
   "cell_type": "code",
   "execution_count": 13,
   "metadata": {},
   "outputs": [],
   "source": [
    "## import the dataset (code from call_center_solution.ipynb)\n",
    "waiting_times_day = np.loadtxt('call_center.csv')\n",
    "\n",
    "# Split the data into 24 separate series, one for each hour of the day\n",
    "current_time = 0\n",
    "waiting_times_per_hour = [[] for _ in range(24)]  # Make 24 empty lists, one per hour\n",
    "for t in waiting_times_day:\n",
    "    current_hour = int(current_time // 60)\n",
    "    current_time += t\n",
    "    waiting_times_per_hour[current_hour].append(t)\n",
    "    \n",
    "# use just the 13th hour of the day\n",
    "waiting_times_hour = waiting_times_per_hour[13]"
   ]
  },
  {
   "cell_type": "code",
   "execution_count": 15,
   "metadata": {},
   "outputs": [],
   "source": [
    "call_center_data = {\n",
    "    '13': {\n",
    "        'alpha': 1,  # fixed prior hyperparameters for the\n",
    "        'beta': 0.25,   # gamma distribution\n",
    "        'num_calls': len(waiting_times_hour),  # number of calls coming in\n",
    "        'waiting_times': waiting_times_hour} # data set on waiting times\n",
    "    }"
   ]
  },
  {
   "cell_type": "code",
   "execution_count": 24,
   "metadata": {},
   "outputs": [],
   "source": [
    "calls_stan_code = \"\"\"\n",
    "\n",
    "// The data block contains all known quantities - typically the observed\n",
    "// data and any constant hyperparameters.\n",
    "data {  \n",
    "    int<lower=1> num_calls;  // number of calls\n",
    "    real<lower=0> waiting_times[num_calls];  // waiting times\n",
    "    real<lower=0> alpha;  // fixed prior hyperparameter\n",
    "    real<lower=0> beta;   // fixed prior hyperparameter\n",
    "}\n",
    "\n",
    "// All unknown quantities, in this case the waiting time lambda\n",
    "parameters {\n",
    "    real<lower=0,upper=1> lambd;  // rate lambda for the exponential\n",
    "}\n",
    "\n",
    "// The model block contains all probability distributions in the model.\n",
    "model {\n",
    "    lambd ~ gamma(alpha, beta);  // prior over p\n",
    "    for(i in 1:num_calls) {\n",
    "        waiting_times[i] ~ exponential(lambd);  // likelihood function\n",
    "    }\n",
    "}\n",
    "\n",
    "\"\"\""
   ]
  },
  {
   "cell_type": "code",
   "execution_count": 25,
   "metadata": {},
   "outputs": [
    {
     "name": "stderr",
     "output_type": "stream",
     "text": [
      "INFO:pystan:COMPILING THE C++ CODE FOR MODEL anon_model_49cc200ef4ffd7cdd272093cb453bd5d NOW.\n"
     ]
    }
   ],
   "source": [
    "calls_stan_model = pystan.StanModel(model_code=calls_stan_code)"
   ]
  },
  {
   "cell_type": "code",
   "execution_count": 26,
   "metadata": {},
   "outputs": [],
   "source": [
    "calls_stan_results = calls_stan_model.sampling(data=call_center_data['13'])"
   ]
  },
  {
   "cell_type": "code",
   "execution_count": 28,
   "metadata": {},
   "outputs": [
    {
     "name": "stdout",
     "output_type": "stream",
     "text": [
      "Inference for Stan model: anon_model_49cc200ef4ffd7cdd272093cb453bd5d.\n",
      "4 chains, each with iter=2000; warmup=1000; thin=1; \n",
      "post-warmup draws per chain=1000, total post-warmup draws=4000.\n",
      "\n",
      "        mean se_mean     sd   2.5%    25%    50%    75%  97.5%  n_eff   Rhat\n",
      "lambd    1.0  8.8e-5 3.1e-3   0.99    1.0    1.0    1.0    1.0   1281    1.0\n",
      "lp__  -67.72    0.03   0.81 -70.07 -67.93 -67.39 -67.17  -67.1   1034    1.0\n",
      "\n",
      "Samples were drawn using NUTS at Wed Oct  7 11:23:40 2020.\n",
      "For each parameter, n_eff is a crude measure of effective sample size,\n",
      "and Rhat is the potential scale reduction factor on split chains (at \n",
      "convergence, Rhat=1).\n"
     ]
    }
   ],
   "source": [
    "print(calls_stan_results)"
   ]
  },
  {
   "cell_type": "markdown",
   "metadata": {},
   "source": [
    "# 2. Normal likelihood with normal-inverse-gamma prior"
   ]
  },
  {
   "cell_type": "code",
   "execution_count": null,
   "metadata": {},
   "outputs": [],
   "source": []
  },
  {
   "cell_type": "markdown",
   "metadata": {},
   "source": [
    "# 3. Log-normal HRTEM data"
   ]
  },
  {
   "cell_type": "code",
   "execution_count": null,
   "metadata": {},
   "outputs": [],
   "source": []
  }
 ],
 "metadata": {
  "kernelspec": {
   "display_name": "Python 3",
   "language": "python",
   "name": "python3"
  },
  "language_info": {
   "codemirror_mode": {
    "name": "ipython",
    "version": 3
   },
   "file_extension": ".py",
   "mimetype": "text/x-python",
   "name": "python",
   "nbconvert_exporter": "python",
   "pygments_lexer": "ipython3",
   "version": "3.7.7"
  }
 },
 "nbformat": 4,
 "nbformat_minor": 4
}
