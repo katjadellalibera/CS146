{
 "cells": [
  {
   "cell_type": "markdown",
   "metadata": {},
   "source": [
    "# LBA: Grocery store prices\n",
    "In this assignment, we model the cost of groceries in different parts of the world. To what extent do\n",
    "grocery prices vary by country and store brand? Are grocery prices and the geographical\n",
    "distribution of different grocery stores correlated with other cost-of-living measures- for example,\n",
    "rent and real estate prices?"
   ]
  },
  {
   "cell_type": "markdown",
   "metadata": {},
   "source": [
    "## Task 1: Prices\n",
    "What is the basic average price for each product? You need to think carefully about how to\n",
    "anchor the basic price for each product since this will depend on the currency used as well\n",
    "as the distribution of prices.<br><br>\n",
    "\n",
    "- Anchor in Euros\n",
    "- Anchor at units that make sense for each category but is base 10 metric, e.g. milk in l, apples and potatoes in kg, meat and butter in 0.1kg. "
   ]
  },
  {
   "cell_type": "code",
   "execution_count": 51,
   "metadata": {},
   "outputs": [],
   "source": [
    "import json\n",
    "import numpy as np\n",
    "import matplotlib.pyplot as plt\n",
    "import pystan\n",
    "import scipy.stats as stats"
   ]
  },
  {
   "cell_type": "markdown",
   "metadata": {},
   "source": [
    "### Processing done before import\n",
    "- changed country column to be standardized:\n",
    "    - USA, UK, Germany (got rid of cities and alternative names for the countries)\n",
    "    - Also change supermarket names to make sure the same market would have the same name there (e.g. 4 people went to the 4th street Trader Joe's)\n",
    "- turned all rent prices into one number \n",
    "    - where necessary, looked up the price myself to be consistent in source within the city\n",
    "    - San Francisco: https://www.zumper.com/blog/map-san-francisco-neighborhood-rent-prices-fall-2018/\n",
    "    - Berlin: https://www.immobilienscout24.de/content/dam/is24/ibw/dokumente/mietmap_berlin_2020.jpg (this is the 2020 version of the 2016 map from the instructions)\n",
    "    - London: https://maps.london.gov.uk/rents/ the official government map. I set it to 2 bedroom to approximate the Berlin one.\n",
    "    - All other cities\n",
    "        - took average where a range was given\n",
    "        - converted to the country's currency where different unit was given\n",
    "- sorted first by submitter then by country in excel\n",
    "- exported to tsv to avoid commas in people's responses\n",
    "- verified outliers with the authors, for example the 73GBP for bananas should be 0.73GBP\n",
    "- used Mathematica to create a dictionary of conversion rates to EUR"
   ]
  },
  {
   "cell_type": "code",
   "execution_count": 2,
   "metadata": {},
   "outputs": [],
   "source": [
    "# import the data\n",
    "data = np.loadtxt(\"LBAData.tsv\", delimiter=\"\\t\",dtype=object)\n",
    "with open(\"conversions.json\") as file:\n",
    "    conversions = json.load(file)"
   ]
  },
  {
   "cell_type": "code",
   "execution_count": 3,
   "metadata": {},
   "outputs": [
    {
     "name": "stdout",
     "output_type": "stream",
     "text": [
      "(65, 68)\n",
      "['10/30/2020 15:38:17' 'a.bricken@minerva.kgi.edu' 'Alexander Bricken'\n",
      " 'Germany' 'EUR' 'EDEKA, Str. der Pariser Kommune 38, 10243 Berlin'\n",
      " 'Mid-range' '915' '1' '3.42' '1' '3.55' '1' '4.44' '1' '0.86' '1' '1.95'\n",
      " '1' '1.95' '1' '3.42' '1' '3.89' '1' '4.88' '1' '0.58' '1' '0.58' '1'\n",
      " '1.69' '1' '1.34' '1' '0.97' '1' '0.87' '1' '7.4' '1' '6.5' '1' '7.81'\n",
      " '1' '1.65' '1' '0.76' '1' '1.05' '1' '8.6' '1' '8.9' '1' '9.2' '6' '1.56'\n",
      " '6' '1.75' '6' '2.44' '1' '7.45' '1' '9.8' '1' '8.25']\n"
     ]
    }
   ],
   "source": [
    "#dimensions\n",
    "print(np.shape(data))\n",
    "#example datapoint\n",
    "print(data[4])"
   ]
  },
  {
   "cell_type": "code",
   "execution_count": 4,
   "metadata": {},
   "outputs": [
    {
     "name": "stdout",
     "output_type": "stream",
     "text": [
      "{'country': 3, 'currency': 4, 'brand': 6, 'rent': 7, 'apples0': 8, 'apples1': 10, 'apples2': 12, 'bananas0': 14, 'bananas1': 16, 'bananas2': 18, 'tomatoes0': 20, 'tomatoes1': 22, 'tomatoes2': 24, 'potatoes0': 26, 'potatoes1': 28, 'potatoes2': 30, 'flour0': 32, 'flour1': 34, 'flour2': 36, 'rice0': 38, 'rice1': 40, 'rice2': 42, 'milk0': 44, 'milk1': 46, 'milk2': 48, 'butter0': 50, 'butter1': 52, 'butter2': 54, 'eggs0': 56, 'eggs1': 58, 'eggs2': 60, 'chicken0': 62, 'chicken1': 64, 'chicken2': 66}\n"
     ]
    }
   ],
   "source": [
    "# make a dictionary to encode all the indexes\n",
    "products = ['apples','bananas','tomatoes','potatoes','flour','rice','milk','butter','eggs','chicken']\n",
    "indexes = {'country': 3,\n",
    "          'currency': 4,\n",
    "          'brand': 6,\n",
    "          'rent': 7}\n",
    "\n",
    "for no, prod in enumerate(products):\n",
    "    for i in range (3):\n",
    "        indexes[prod + str(i)] = 8+6*no+i*2\n",
    "print(indexes)"
   ]
  },
  {
   "cell_type": "code",
   "execution_count": 5,
   "metadata": {},
   "outputs": [
    {
     "data": {
      "text/plain": [
       "array(['Product 1 quantity (kg)', '1', '1', '1', '1', '1', '1', '1', '1',\n",
       "       '1', '1', '1', '1', '1', '1', '1', '1', '1', '1', '1', '1', '1',\n",
       "       '1', '1.36078', '1.36078', '1', '1', '1', '1', '3.5', '1', '1',\n",
       "       '0.118', '0.118', '1', '1', '0.54', '1', '0.6', '0.6', '1', '1',\n",
       "       '0.78', '0.9', '1', '1', '0.453592', '0.453592', '0.2', '0.12',\n",
       "       '1.3608', '0.4536', '1', '0.118', '0.45', '0.45', '0.45', '1',\n",
       "       '0.91', '0.118', '0.4535924', '0.453592', '1', '1', '0.5'],\n",
       "      dtype=object)"
      ]
     },
     "execution_count": 5,
     "metadata": {},
     "output_type": "execute_result"
    }
   ],
   "source": [
    "# show all the quantities for one product\n",
    "data[:,indexes['bananas0']]"
   ]
  },
  {
   "cell_type": "code",
   "execution_count": 25,
   "metadata": {},
   "outputs": [],
   "source": [
    "# write a function that normalizes by target unit and converts the currency\n",
    "def get_normalized_price(i, target_unit):\n",
    "    units = np.array([1 if x==\"\" else x for x in data[1:,i]], dtype=np.float)\n",
    "    price = np.array([0 if x==\"\" else x for x in data[1:,i+1]], dtype=np.float)\n",
    "    normalized_price = price/units*target_unit\n",
    "    normalized_price_EUR = []\n",
    "    for no, x  in enumerate(normalized_price):\n",
    "        normalized_price_EUR.append( x*conversions[str(data[no+1,indexes['currency']])] )\n",
    "    return normalized_price_EUR"
   ]
  },
  {
   "cell_type": "code",
   "execution_count": 27,
   "metadata": {},
   "outputs": [],
   "source": [
    "apples = np.transpose([get_normalized_price(indexes['apples0'],1),\n",
    "           get_normalized_price(indexes['apples1'],1),\n",
    "           get_normalized_price(indexes['apples2'],1)])\n",
    "bananas = np.transpose([get_normalized_price(indexes['bananas0'],1),\n",
    "           get_normalized_price(indexes['bananas1'],1),\n",
    "           get_normalized_price(indexes['bananas2'],1)])\n",
    "tomatoes = np.transpose([get_normalized_price(indexes['tomatoes0'],1),\n",
    "           get_normalized_price(indexes['tomatoes1'],1),\n",
    "           get_normalized_price(indexes['tomatoes2'],1)])\n",
    "potatoes = np.transpose([get_normalized_price(indexes['potatoes0'],1),\n",
    "           get_normalized_price(indexes['potatoes1'],1),\n",
    "           get_normalized_price(indexes['potatoes2'],1)])\n",
    "flour = np.transpose([get_normalized_price(indexes['flour0'],1),\n",
    "           get_normalized_price(indexes['flour1'],1),\n",
    "           get_normalized_price(indexes['flour2'],1)])\n",
    "rice = np.transpose([get_normalized_price(indexes['rice0'],1),\n",
    "           get_normalized_price(indexes['rice1'],1),\n",
    "           get_normalized_price(indexes['rice2'],1)])\n",
    "milk = np.transpose([get_normalized_price(indexes['milk0'],1),\n",
    "           get_normalized_price(indexes['milk1'],1),\n",
    "           get_normalized_price(indexes['milk2'],1)])\n",
    "# measure butter in 100g\n",
    "butter = np.transpose([get_normalized_price(indexes['butter0'],0.1),\n",
    "           get_normalized_price(indexes['butter1'],0.25),\n",
    "           get_normalized_price(indexes['butter2'],0.25)])\n",
    "# get 10 eggs, the common unit in Germany (so EUR)\n",
    "eggs = np.transpose([get_normalized_price(indexes['eggs0'],10),\n",
    "           get_normalized_price(indexes['eggs1'],10),\n",
    "           get_normalized_price(indexes['eggs2'],10)])\n",
    "# measure butter in 100g\n",
    "chicken = np.transpose([get_normalized_price(indexes['chicken0'],0.1),\n",
    "           get_normalized_price(indexes['chicken1'],0.1),\n",
    "           get_normalized_price(indexes['chicken2'],0.1)])"
   ]
  },
  {
   "cell_type": "code",
   "execution_count": 29,
   "metadata": {},
   "outputs": [],
   "source": [
    "# also adjust the rent prices by country currency\n",
    "rent = []\n",
    "for no, x in enumerate(data[1:,indexes['rent']]):\n",
    "    x = x.replace(',','')\n",
    "    x = float(x.replace('$',''))\n",
    "    new_price = x*conversions[str(data[no+1,indexes['currency']])]\n",
    "    rent.append(new_price)"
   ]
  },
  {
   "cell_type": "code",
   "execution_count": 55,
   "metadata": {},
   "outputs": [],
   "source": [
    "brand_code = {'Budget (cheap)': 1,'Mid-range': 2, 'Luxury (expensive)': 3}\n",
    "country_code = {'Germany': 1, 'Guatemala': 2, 'Morocco': 3, 'South Korea': 4, 'UK': 5, 'USA': 6, 'Vietnam': 7}"
   ]
  },
  {
   "cell_type": "code",
   "execution_count": 77,
   "metadata": {},
   "outputs": [],
   "source": [
    "# dictionary to encode the brand perception\n",
    "# create a list of three lists representing the price, brand perception and country\n",
    "def make_data_set(product):\n",
    "    price = []\n",
    "    brand = []\n",
    "    country = []\n",
    "    for i, x in enumerate(product):\n",
    "        for p in x:\n",
    "            if p != 0:\n",
    "                price.append(p)\n",
    "                brand.append(brand_code[data[i+1,indexes['brand']]])\n",
    "                country.append(country_code[data[i+1,indexes['country']]])\n",
    "    return np.array([price,brand,country])"
   ]
  },
  {
   "cell_type": "code",
   "execution_count": 78,
   "metadata": {},
   "outputs": [],
   "source": [
    "banana_data = make_data_set(bananas)"
   ]
  },
  {
   "cell_type": "code",
   "execution_count": 47,
   "metadata": {},
   "outputs": [],
   "source": [
    "# group the rent by country\n",
    "rent_by_country = {}\n",
    "for i, x in enumerate(rent):\n",
    "    if data[i+1,indexes['country']] in rent_by_country.keys() and x != 0:\n",
    "        rent_by_country[data[i+1,indexes['country']]].append(x)\n",
    "    elif x != 0:\n",
    "        rent_by_country[data[i+1,indexes['country']]] = [x]"
   ]
  },
  {
   "cell_type": "code",
   "execution_count": 49,
   "metadata": {},
   "outputs": [
    {
     "data": {
      "image/png": "[encoded data removed]",
      "text/plain": [
       "<Figure size 432x288 with 1 Axes>"
      ]
     },
     "metadata": {
      "needs_background": "light"
     },
     "output_type": "display_data"
    }
   ],
   "source": [
    "countries = list(rent_by_country.keys())\n",
    "by_country_list = [rent_by_country[key] for key in countries]\n",
    "plt.hist(by_country_list, histtype='bar', label=countries)\n",
    "plt.legend(prop={'size': 10})\n",
    "plt.show()"
   ]
  },
  {
   "cell_type": "markdown",
   "metadata": {},
   "source": [
    "## Task 2: Factors influencing prices\n",
    "How much does each of the following factors modify the basic price of the product (up or\n",
    "down)?\n",
    "- The geographical location (country) of the grocery store.\n",
    "- Brand of the grocery store. Since we are getting data from multiple countries, you will need to specify whether the store brand is considered budget (cheap), mid-range, or luxury (expensive). This should be based on what you think the general public perception of the store brand is.\n",
    "- Does price variation by geographical location correlate with variation in rental prices, or\n",
    "not?\n",
    "\n",
    "Explain in your report how strong each of these effects is. Which has the greatest influence\n",
    "on price variation between shops?\n",
    "\n",
    "Notes:\n",
    "- Two levels of categorical variables\n",
    "    - country\n",
    "    - grocery store rating\n",
    "- one numeric variable: rent price\n",
    "- Determine significance and size of the variation between categories"
   ]
  },
  {
   "cell_type": "code",
   "execution_count": null,
   "metadata": {},
   "outputs": [],
   "source": []
  },
  {
   "cell_type": "markdown",
   "metadata": {},
   "source": [
    "# Model\n",
    "You are encouraged to use the model structure described below for this assignment. However, you\n",
    "may modify the model if you have ideas on how to improve it. If you do decide to modify the model,\n",
    "you have to do so in a way that still allows you to address all points in the Questions to Answer section above. \n",
    "You should also motivate any changes to the model.<br>\n",
    "Implement your model in PyStan, generate samples from the posterior, present your posterior\n",
    "results, and use your posteriors to answer the questions provided.<br>\n",
    "The basic idea of the model is that each type of product (apples, bananas, etc.) has a base price,\n",
    "with multipliers depending on store brand and geographical location.<br>\n",
    "- The base price of each product.\n",
    "    - Price is a positive real number.\n",
    "    - It is up to you to choose a good prior.\n",
    "- The multiplier for each store type (budget/mid-range/luxury).\n",
    "    - This is a scale parameter (positive real number).\n",
    "    - The prior can be centered on 1, to achieve an average multiplier of 1. This would make the base price (approximately) match the average price in mid-range stores.\n",
    "- The multiplier for the country or state.\n",
    "    - This is a scale parameter (positive real number).\n",
    "    - The prior should also be centered on 1. Expensive countries/states will have multipliers above 1 and inexpensive countries will have multipliers below 1.<br>\n",
    "\n",
    "For example,\n",
    "-  The base price of 1 liter of full cream milk might be 0.70 ¼.\n",
    "-  ALDI stores are considered inexpensive and might be only 0.9 times as expensive as the average store.\n",
    "- Stores in Germany might be 1.4 times more expensive than stores in the average country or state.\n",
    "So as a result, 1 liter of full cream milk in an ALDI store in Berlin should cost about 0.70 * 0.9 *\n",
    "1.4 = 0.88  with some random variation around that value."
   ]
  },
  {
   "cell_type": "code",
   "execution_count": 99,
   "metadata": {},
   "outputs": [],
   "source": [
    "# define the data for the stan model\n",
    "stan_data = {\n",
    "    'bananas': {\n",
    "        'n': len(banana_data[0]),\n",
    "        'prices': banana_data[0],\n",
    "        # 1 for cheap, 2 for mid-range, 3 for expensive\n",
    "        'n_brands' : 3,\n",
    "        'brand' : banana_data[1],\n",
    "        # by alphabet [Germany:1, Guatemala:2, Morocco: 3, South Korea: 4, UK:5, USA:6, Vietnam:7]\n",
    "        'n_countries' : 7,\n",
    "        'country' : banana_data[2],\n",
    "    }\n",
    "}"
   ]
  },
  {
   "cell_type": "code",
   "execution_count": 94,
   "metadata": {},
   "outputs": [
    {
     "name": "stderr",
     "output_type": "stream",
     "text": [
      "INFO:pystan:COMPILING THE C++ CODE FOR MODEL anon_model_371a34e74d5fdd1be986fec17c4c56c4 NOW.\n"
     ]
    }
   ],
   "source": [
    "# define stan code\n",
    "stan_code = \"\"\"\n",
    "// All known quanitites\n",
    "data {  \n",
    "    int<lower=1> n; // number of data points\n",
    "    real<lower=0> prices[n]; // the data points of prices\n",
    "    int<lower=1> n_brands; // number of brand categories (3)\n",
    "    int<lower=1> n_countries; // number of countries (7)\n",
    "    int<lower=0> brand[n]; // the brand perception for each data point\n",
    "    int<lower=0> country[n]; // the country for each data point\n",
    "}\n",
    "\n",
    "// All unknown quantities\n",
    "parameters {\n",
    "    real<lower=0> average_price; // the main goal, our average price\n",
    "    real<lower=0> sigma; // variance around our price\n",
    "    real<lower=0> brand_multiplier[n_brands];  // multiplier for the type of store\n",
    "    real<lower=0> country_multiplier[n_countries]; //multiplier for the \n",
    "}\n",
    "\n",
    "// The model block contains all probability distributions in the model.\n",
    "model {\n",
    "    brand_multiplier[1] ~ uniform(0,1); // prior for cheap coefficient: between 0 and 1\n",
    "    brand_multiplier[2] ~ uniform(1,1);    // prior for mid-range coefficient: 1\n",
    "    brand_multiplier[3] ~ uniform(1,2);    // prior for expensive stores: between 1 and 2\n",
    "    country_multiplier[n_countries] ~ uniform(0,2); // prior for coutnry coefficients\n",
    "    for (t in 1:n){\n",
    "        prices[t] ~ normal(average_price*brand_multiplier[brand[t]]*country_multiplier[country[t]],sigma);\n",
    "        // likelihood\n",
    "    };   \n",
    "    }\n",
    "\n",
    "\"\"\"\n",
    "# define stan model\n",
    "stan_model = pystan.StanModel(model_code=stan_code)"
   ]
  },
  {
   "cell_type": "code",
   "execution_count": 100,
   "metadata": {},
   "outputs": [
    {
     "ename": "RuntimeError",
     "evalue": "Exception: int variable contained non-int values; processing stage=data initialization; variable name=brand; base type=int  (in 'unknown file name' at line 8)\n",
     "output_type": "error",
     "traceback": [
      "\u001b[0;31m---------------------------------------------------------------------------\u001b[0m",
      "\u001b[0;31mRuntimeError\u001b[0m                              Traceback (most recent call last)",
      "\u001b[0;32m<ipython-input-100-52c65b10e048>\u001b[0m in \u001b[0;36m<module>\u001b[0;34m\u001b[0m\n\u001b[0;32m----> 1\u001b[0;31m \u001b[0mstan_results\u001b[0m \u001b[0;34m=\u001b[0m \u001b[0mstan_model\u001b[0m\u001b[0;34m.\u001b[0m\u001b[0msampling\u001b[0m\u001b[0;34m(\u001b[0m\u001b[0mdata\u001b[0m\u001b[0;34m=\u001b[0m\u001b[0mstan_data\u001b[0m\u001b[0;34m[\u001b[0m\u001b[0;34m'bananas'\u001b[0m\u001b[0;34m]\u001b[0m\u001b[0;34m)\u001b[0m\u001b[0;34m\u001b[0m\u001b[0;34m\u001b[0m\u001b[0m\n\u001b[0m\u001b[1;32m      2\u001b[0m \u001b[0mprint\u001b[0m\u001b[0;34m(\u001b[0m\u001b[0mstan_results\u001b[0m\u001b[0;34m.\u001b[0m\u001b[0mstansummary\u001b[0m\u001b[0;34m(\u001b[0m\u001b[0mpars\u001b[0m\u001b[0;34m=\u001b[0m\u001b[0;34m[\u001b[0m\u001b[0;34m'average_price'\u001b[0m\u001b[0;34m]\u001b[0m\u001b[0;34m,\u001b[0m \u001b[0mprobs\u001b[0m\u001b[0;34m=\u001b[0m\u001b[0;34m[\u001b[0m\u001b[0;36m0.01\u001b[0m\u001b[0;34m,\u001b[0m \u001b[0;36m0.5\u001b[0m\u001b[0;34m,\u001b[0m \u001b[0;36m0.99\u001b[0m\u001b[0;34m]\u001b[0m\u001b[0;34m)\u001b[0m\u001b[0;34m)\u001b[0m\u001b[0;34m\u001b[0m\u001b[0;34m\u001b[0m\u001b[0m\n",
      "\u001b[0;32m/usr/local/lib/python3.7/site-packages/pystan/model.py\u001b[0m in \u001b[0;36msampling\u001b[0;34m(self, data, pars, chains, iter, warmup, thin, seed, init, sample_file, diagnostic_file, verbose, algorithm, control, n_jobs, **kwargs)\u001b[0m\n\u001b[1;32m    756\u001b[0m                 \u001b[0;32mraise\u001b[0m \u001b[0mValueError\u001b[0m\u001b[0;34m(\u001b[0m\u001b[0;34m\"Warmup samples must be greater than 0 when adaptation is enabled (`adapt_engaged=True`)\"\u001b[0m\u001b[0;34m)\u001b[0m\u001b[0;34m\u001b[0m\u001b[0;34m\u001b[0m\u001b[0m\n\u001b[1;32m    757\u001b[0m         \u001b[0mseed\u001b[0m \u001b[0;34m=\u001b[0m \u001b[0mpystan\u001b[0m\u001b[0;34m.\u001b[0m\u001b[0mmisc\u001b[0m\u001b[0;34m.\u001b[0m\u001b[0m_check_seed\u001b[0m\u001b[0;34m(\u001b[0m\u001b[0mseed\u001b[0m\u001b[0;34m)\u001b[0m\u001b[0;34m\u001b[0m\u001b[0;34m\u001b[0m\u001b[0m\n\u001b[0;32m--> 758\u001b[0;31m         \u001b[0mfit\u001b[0m \u001b[0;34m=\u001b[0m \u001b[0mself\u001b[0m\u001b[0;34m.\u001b[0m\u001b[0mfit_class\u001b[0m\u001b[0;34m(\u001b[0m\u001b[0mdata\u001b[0m\u001b[0;34m,\u001b[0m \u001b[0mseed\u001b[0m\u001b[0;34m)\u001b[0m\u001b[0;34m\u001b[0m\u001b[0;34m\u001b[0m\u001b[0m\n\u001b[0m\u001b[1;32m    759\u001b[0m \u001b[0;34m\u001b[0m\u001b[0m\n\u001b[1;32m    760\u001b[0m         \u001b[0mm_pars\u001b[0m \u001b[0;34m=\u001b[0m \u001b[0mfit\u001b[0m\u001b[0;34m.\u001b[0m\u001b[0m_get_param_names\u001b[0m\u001b[0;34m(\u001b[0m\u001b[0;34m)\u001b[0m\u001b[0;34m\u001b[0m\u001b[0;34m\u001b[0m\u001b[0m\n",
      "\u001b[0;32mstanfit4anon_model_371a34e74d5fdd1be986fec17c4c56c4_3824066757432614789.pyx\u001b[0m in \u001b[0;36mstanfit4anon_model_371a34e74d5fdd1be986fec17c4c56c4_3824066757432614789.StanFit4Model.__cinit__\u001b[0;34m()\u001b[0m\n",
      "\u001b[0;31mRuntimeError\u001b[0m: Exception: int variable contained non-int values; processing stage=data initialization; variable name=brand; base type=int  (in 'unknown file name' at line 8)\n"
     ]
    }
   ],
   "source": [
    "stan_results = stan_model.sampling(data=stan_data['bananas'])\n",
    "print(stan_results.stansummary(pars=['average_price'], probs=[0.01, 0.5, 0.99]))"
   ]
  },
  {
   "cell_type": "code",
   "execution_count": null,
   "metadata": {},
   "outputs": [],
   "source": []
  }
 ],
 "metadata": {
  "kernelspec": {
   "display_name": "Python 3",
   "language": "python",
   "name": "python3"
  },
  "language_info": {
   "codemirror_mode": {
    "name": "ipython",
    "version": 3
   },
   "file_extension": ".py",
   "mimetype": "text/x-python",
   "name": "python",
   "nbconvert_exporter": "python",
   "pygments_lexer": "ipython3",
   "version": "3.7.7"
  }
 },
 "nbformat": 4,
 "nbformat_minor": 4
}
