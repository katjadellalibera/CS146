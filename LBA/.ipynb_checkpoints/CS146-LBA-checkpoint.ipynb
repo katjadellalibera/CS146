{
 "cells": [
  {
   "cell_type": "markdown",
   "metadata": {},
   "source": [
    "# LBA: Grocery store prices\n",
    "In this assignment, we model the cost of groceries in different parts of the world. To what extent do\n",
    "grocery prices vary by country and store brand? Are grocery prices and the geographical\n",
    "distribution of different grocery stores correlated with other cost-of-living measures- for example,\n",
    "rent and real estate prices?"
   ]
  },
  {
   "cell_type": "markdown",
   "metadata": {},
   "source": [
    "## Prices\n",
    "What is the basic average price for each product? You need to think carefully about how to\n",
    "anchor the basic price for each product since this will depend on the currency used as well\n",
    "as the distribution of prices.<br><br>\n",
    "\n",
    "- Anchor in Euros\n",
    "- Anchor are in metric units, 1kg for everything except for eggs (10) and milk (1l)"
   ]
  },
  {
   "cell_type": "code",
   "execution_count": 1,
   "metadata": {},
   "outputs": [],
   "source": [
    "import json\n",
    "import numpy as np\n",
    "import matplotlib.pyplot as plt\n",
    "import pystan\n",
    "import scipy.stats as stats"
   ]
  },
  {
   "cell_type": "markdown",
   "metadata": {},
   "source": [
    "### Processing done before import\n",
    "- changed country column to be standardized:\n",
    "    - USA, UK, Germany (got rid of cities and alternative names for the countries)\n",
    "    - Also change supermarket names to make sure the same market would have the same name there (e.g. 4 people went to the 4th street Trader Joe's)\n",
    "- turned all rent prices into one number \n",
    "    - In 3 largest cities, looked up the price myself to be consistent in source within the city\n",
    "        - San Francisco: https://www.zumper.com/blog/map-san-francisco-neighborhood-rent-prices-fall-2018/\n",
    "        - Berlin: https://www.immobilienscout24.de/content/dam/is24/ibw/dokumente/mietmap_berlin_2020.jpg (this is the 2020 version of the 2016 map from the instructions)\n",
    "        - London: https://maps.london.gov.uk/rents/ the official government map. I set it to 2 bedroom to approximate the Berlin one.\n",
    "    - All other cities\n",
    "        - took average where a range was given\n",
    "        - converted to the country's currency where different unit was given\n",
    "- sorted first by submitter then by country in excel\n",
    "- exported to tsv to avoid commas in people's responses\n",
    "- verified some outliers with the authors, for example the 73GBP for bananas should be 0.73GBP and the 90GBP for 6 eggs 0.9GBP, but left a lot of them in, which will just be random nice and we'll need to keep it in mind in the model\n",
    "- used Mathematica to create a dictionary of conversion rates to EUR"
   ]
  },
  {
   "cell_type": "code",
   "execution_count": 2,
   "metadata": {},
   "outputs": [],
   "source": [
    "# import the data\n",
    "data = np.loadtxt(\"LBAData.tsv\", delimiter=\"\\t\",dtype=object)\n",
    "# import a dictionary for the conversion data\n",
    "with open(\"conversions.json\") as file:\n",
    "    conversions = json.load(file)"
   ]
  },
  {
   "cell_type": "code",
   "execution_count": 3,
   "metadata": {},
   "outputs": [
    {
     "data": {
      "text/plain": [
       "{'EUR': 1,\n",
       " 'GBP': 1.1058277171733077,\n",
       " 'GTQ': 0.1085238731910468,\n",
       " 'KRW': 0.0007504127002473718,\n",
       " 'MAD': 0.09212246559752575,\n",
       " 'USD': 0.842459957430133,\n",
       " 'VND': 3.63882153017716e-05}"
      ]
     },
     "execution_count": 3,
     "metadata": {},
     "output_type": "execute_result"
    }
   ],
   "source": [
    "# look at the conversion rates\n",
    "conversions"
   ]
  },
  {
   "cell_type": "code",
   "execution_count": 4,
   "metadata": {},
   "outputs": [
    {
     "name": "stdout",
     "output_type": "stream",
     "text": [
      "The dimesnions of the data set: (65, 68)\n",
      "An example row of data: ['10/30/2020 15:38:17' 'a.bricken@minerva.kgi.edu' 'Alexander Bricken'\n",
      " 'Germany' 'EUR' 'EDEKA, Str. der Pariser Kommune 38, 10243 Berlin'\n",
      " 'Mid-range' '915' '1' '3.42' '1' '3.55' '1' '4.44' '1' '0.86' '1' '1.95'\n",
      " '1' '1.95' '1' '3.42' '1' '3.89' '1' '4.88' '1' '0.58' '1' '0.58' '1'\n",
      " '1.69' '1' '1.34' '1' '0.97' '1' '0.87' '1' '7.4' '1' '6.5' '1' '7.81'\n",
      " '1' '1.65' '1' '0.76' '1' '1.05' '1' '8.6' '1' '8.9' '1' '9.2' '6' '1.56'\n",
      " '6' '1.75' '6' '2.44' '1' '7.45' '1' '9.8' '1' '8.25']\n"
     ]
    }
   ],
   "source": [
    "#dimensions\n",
    "print(\"The dimesnions of the data set:\",np.shape(data))\n",
    "#example data row\n",
    "print(\"An example row of data:\",data[4])"
   ]
  },
  {
   "cell_type": "code",
   "execution_count": 5,
   "metadata": {},
   "outputs": [
    {
     "name": "stdout",
     "output_type": "stream",
     "text": [
      "{'country': 3, 'currency': 4, 'brand': 6, 'rent': 7, 'apples0': 8, 'apples1': 10, 'apples2': 12, 'bananas0': 14, 'bananas1': 16, 'bananas2': 18, 'tomatoes0': 20, 'tomatoes1': 22, 'tomatoes2': 24, 'potatoes0': 26, 'potatoes1': 28, 'potatoes2': 30, 'flour0': 32, 'flour1': 34, 'flour2': 36, 'rice0': 38, 'rice1': 40, 'rice2': 42, 'milk0': 44, 'milk1': 46, 'milk2': 48, 'butter0': 50, 'butter1': 52, 'butter2': 54, 'eggs0': 56, 'eggs1': 58, 'eggs2': 60, 'chicken0': 62, 'chicken1': 64, 'chicken2': 66}\n"
     ]
    }
   ],
   "source": [
    "# make a dictionary to encode all the indexes\n",
    "products = ['apples','bananas','tomatoes','potatoes','flour','rice','milk','butter','eggs','chicken']\n",
    "indexes = {'country': 3,\n",
    "          'currency': 4,\n",
    "          'brand': 6,\n",
    "          'rent': 7}\n",
    "\n",
    "# encode just the index of the amount for each of the three samples per product\n",
    "for no, prod in enumerate(products):\n",
    "    for i in range (3):\n",
    "        indexes[prod + str(i)] = 8+6*no+i*2\n",
    "print(indexes)"
   ]
  },
  {
   "cell_type": "code",
   "execution_count": 6,
   "metadata": {},
   "outputs": [
    {
     "data": {
      "text/plain": [
       "array(['Butter 1 quantity (kg)', '0.25', '0.25', '1', '1', '0.25', '0.25',\n",
       "       '0.25', '0.25', '0.25', '0.25', '1', '1', '0.25', '0.25', '0.25',\n",
       "       '0.25', '0.25', '0.25', '0.25', '0.25', '0.25', '0.25', '0.115',\n",
       "       '0.115', '0.25', '0.2', '1', '0.5', '0.45', '1', '1', '1', '1',\n",
       "       '0.25', '0.25', '1', '1', '1', '0.25', '1', '1', '0.5', '0.25',\n",
       "       '1', '1', '0.453592', '0.453592', '0.45', '0.45', '0.4536',\n",
       "       '0.4536', '1', '1', '0.45', '0.45', '0.45', '0.45', '0.453592',\n",
       "       '0.453592', '0.4535924', '0.453592', '0.8', '0.2', '0.25'],\n",
       "      dtype=object)"
      ]
     },
     "execution_count": 6,
     "metadata": {},
     "output_type": "execute_result"
    }
   ],
   "source": [
    "# show all the quantities for one product\n",
    "# note: pound to kg coversion is interesting\n",
    "data[:,indexes['butter0']]"
   ]
  },
  {
   "cell_type": "code",
   "execution_count": 7,
   "metadata": {},
   "outputs": [],
   "source": [
    "# write a function that normalizes by target unit and converts the currency\n",
    "def get_normalized_price(i, target_unit):\n",
    "    # set all missing prices to 0 to filter them out later\n",
    "    units = np.array([1 if x==\"\" else x for x in data[1:,i]], dtype=np.float)\n",
    "    price = np.array([0 if x==\"\" else x for x in data[1:,i+1]], dtype=np.float)\n",
    "    normalized_price = price/units*target_unit\n",
    "    normalized_price_EUR = []\n",
    "    for no, x  in enumerate(normalized_price):\n",
    "        normalized_price_EUR.append( x*conversions[str(data[no+1,indexes['currency']])] )\n",
    "    return normalized_price_EUR"
   ]
  },
  {
   "cell_type": "code",
   "execution_count": 8,
   "metadata": {},
   "outputs": [],
   "source": [
    "apples = np.transpose([get_normalized_price(indexes['apples0'],1),\n",
    "           get_normalized_price(indexes['apples1'],1),\n",
    "           get_normalized_price(indexes['apples2'],1)])\n",
    "bananas = np.transpose([get_normalized_price(indexes['bananas0'],1),\n",
    "           get_normalized_price(indexes['bananas1'],1),\n",
    "           get_normalized_price(indexes['bananas2'],1)])\n",
    "tomatoes = np.transpose([get_normalized_price(indexes['tomatoes0'],1),\n",
    "           get_normalized_price(indexes['tomatoes1'],1),\n",
    "           get_normalized_price(indexes['tomatoes2'],1)])\n",
    "potatoes = np.transpose([get_normalized_price(indexes['potatoes0'],1),\n",
    "           get_normalized_price(indexes['potatoes1'],1),\n",
    "           get_normalized_price(indexes['potatoes2'],1)])\n",
    "flour = np.transpose([get_normalized_price(indexes['flour0'],1),\n",
    "           get_normalized_price(indexes['flour1'],1),\n",
    "           get_normalized_price(indexes['flour2'],1)])\n",
    "rice = np.transpose([get_normalized_price(indexes['rice0'],1),\n",
    "           get_normalized_price(indexes['rice1'],1),\n",
    "           get_normalized_price(indexes['rice2'],1)])\n",
    "milk = np.transpose([get_normalized_price(indexes['milk0'],1),\n",
    "           get_normalized_price(indexes['milk1'],1),\n",
    "           get_normalized_price(indexes['milk2'],1)])\n",
    "butter = np.transpose([get_normalized_price(indexes['butter0'],1),\n",
    "           get_normalized_price(indexes['butter1'],1),\n",
    "           get_normalized_price(indexes['butter2'],1)])\n",
    "# get 10 eggs, the common unit in Germany (so EUR)\n",
    "eggs = np.transpose([get_normalized_price(indexes['eggs0'],10),\n",
    "           get_normalized_price(indexes['eggs1'],10),\n",
    "           get_normalized_price(indexes['eggs2'],10)])\n",
    "chicken = np.transpose([get_normalized_price(indexes['chicken0'],1),\n",
    "           get_normalized_price(indexes['chicken1'],1),\n",
    "           get_normalized_price(indexes['chicken2'],1)])"
   ]
  },
  {
   "cell_type": "code",
   "execution_count": 9,
   "metadata": {},
   "outputs": [],
   "source": [
    "# also adjust the rent prices by country currency\n",
    "rent = []\n",
    "for no, x in enumerate(data[1:,indexes['rent']]):\n",
    "    x = x.replace(',','')\n",
    "    x = float(x.replace('$',''))\n",
    "    new_price = x*conversions[str(data[no+1,indexes['currency']])]\n",
    "    rent.append(new_price)"
   ]
  },
  {
   "cell_type": "code",
   "execution_count": 10,
   "metadata": {},
   "outputs": [],
   "source": [
    "# a dictionary for the brand code and country code\n",
    "# I 1-index them since stan uses 1-index\n",
    "brand_code = {'Budget (cheap)': 1,'Mid-range': 2, 'Luxury (expensive)': 3}\n",
    "country_code = {'Germany': 1, 'Guatemala': 2, 'Morocco': 3, 'South Korea': 4, 'UK': 5, 'USA': 6, 'Vietnam': 7}"
   ]
  },
  {
   "cell_type": "code",
   "execution_count": 11,
   "metadata": {},
   "outputs": [],
   "source": [
    "# create a list of four lists representing the price, brand perception country, product and rent price\n",
    "\n",
    "product_data = [apples,bananas,tomatoes,potatoes,flour,rice,milk,butter,eggs,chicken]\n",
    "product = []\n",
    "price = []\n",
    "brand = []\n",
    "country = []\n",
    "rent_cost = []\n",
    "for n, p in enumerate(product_data): # each product (10 total)\n",
    "    for i, x in enumerate(p): # each supermarket (64 total)\n",
    "        for p in x: # each sample for that product (3 total)\n",
    "            if p != 0: # at this point, we filter out the missing data\n",
    "                # the number of the product\n",
    "                product.append(n+1)\n",
    "                # the price of the product\n",
    "                price.append(p)\n",
    "                # the brand perception of the product\n",
    "                brand.append(brand_code[data[i+1,indexes['brand']]])\n",
    "                # the country of the procuct\n",
    "                country.append(country_code[data[i+1,indexes['country']]])\n",
    "                # the cost of rent close to the supermarket\n",
    "                rent_cost.append(rent[i])\n",
    "reshaped_data = np.array([price,brand,country,product,rent_cost])"
   ]
  },
  {
   "cell_type": "code",
   "execution_count": 12,
   "metadata": {},
   "outputs": [
    {
     "name": "stdout",
     "output_type": "stream",
     "text": [
      "An example data point in our new dataset: [2.730e+00 2.000e+00 1.000e+00 1.000e+00 1.015e+03] \n",
      " price of 2.730 euro, in a mid-range store, in Germany, for apples, where rent costs 1015 EUR.\n"
     ]
    }
   ],
   "source": [
    "print(\"An example data point in our new dataset:\",reshaped_data[:,4],\"\\n price of 2.730 euro, in a mid-range store, in Germany, for apples, where rent costs 1015 EUR.\")"
   ]
  },
  {
   "cell_type": "code",
   "execution_count": 13,
   "metadata": {},
   "outputs": [],
   "source": [
    "# group the rent by country\n",
    "rent_by_country = {}\n",
    "for i, x in enumerate(rent):\n",
    "    if data[i+1,indexes['country']] in rent_by_country.keys() and x != 0:\n",
    "        rent_by_country[data[i+1,indexes['country']]].append(x)\n",
    "    elif x != 0:\n",
    "        rent_by_country[data[i+1,indexes['country']]] = [x]"
   ]
  },
  {
   "cell_type": "code",
   "execution_count": 14,
   "metadata": {},
   "outputs": [
    {
     "data": {
      "image/png": "[encoded data removed]",
      "text/plain": [
       "<Figure size 432x288 with 1 Axes>"
      ]
     },
     "metadata": {
      "needs_background": "light"
     },
     "output_type": "display_data"
    }
   ],
   "source": [
    "countries = list(rent_by_country.keys())\n",
    "by_country_list = [rent_by_country[key] for key in countries]\n",
    "plt.hist(by_country_list,20, histtype='bar', stacked=True, label=countries)\n",
    "plt.legend(prop={'size': 10})\n",
    "plt.show()"
   ]
  },
  {
   "cell_type": "markdown",
   "metadata": {},
   "source": [
    "## Factors influencing prices\n",
    "How much does each of the following factors modify the basic price of the product (up or\n",
    "down)?\n",
    "- The geographical location (country) of the grocery store.\n",
    "- Brand of the grocery store. Since we are getting data from multiple countries, you will need to specify whether the store brand is considered budget (cheap), mid-range, or luxury (expensive). This should be based on what you think the general public perception of the store brand is.\n",
    "- Does price variation by geographical location correlate with variation in rental prices, or\n",
    "not?\n",
    "\n",
    "Explain in your report how strong each of these effects is. Which has the greatest influence\n",
    "on price variation between shops?\n",
    "\n",
    "Notes:\n",
    "- Two levels of categorical variables\n",
    "    - country\n",
    "    - grocery store rating\n",
    "- one numeric variable: rent price\n",
    "- Determine significance and size of the variation between categories"
   ]
  },
  {
   "cell_type": "markdown",
   "metadata": {},
   "source": [
    "# Model\n",
    "You are encouraged to use the model structure described below for this assignment. However, you\n",
    "may modify the model if you have ideas on how to improve it. If you do decide to modify the model,\n",
    "you have to do so in a way that still allows you to address all points in the Questions to Answer section above. \n",
    "You should also motivate any changes to the model.<br>\n",
    "Implement your model in PyStan, generate samples from the posterior, present your posterior\n",
    "results, and use your posteriors to answer the questions provided.<br>\n",
    "The basic idea of the model is that each type of product (apples, bananas, etc.) has a base price,\n",
    "with multipliers depending on store brand and geographical location.<br>\n",
    "- The base price of each product.\n",
    "    - Price is a positive real number.\n",
    "    - It is up to you to choose a good prior.\n",
    "- The multiplier for each store type (budget/mid-range/luxury).\n",
    "    - This is a scale parameter (positive real number).\n",
    "    - The prior can be centered on 1, to achieve an average multiplier of 1. This would make the base price (approximately) match the average price in mid-range stores.\n",
    "- The multiplier for the country or state.\n",
    "    - This is a scale parameter (positive real number).\n",
    "    - The prior should also be centered on 1. Expensive countries/states will have multipliers above 1 and inexpensive countries will have multipliers below 1.<br>\n",
    "\n",
    "For example,\n",
    "-  The base price of 1 liter of full cream milk might be 0.70 ¼.\n",
    "-  ALDI stores are considered inexpensive and might be only 0.9 times as expensive as the average store.\n",
    "- Stores in Germany might be 1.4 times more expensive than stores in the average country or state.\n",
    "So as a result, 1 liter of full cream milk in an ALDI store in Berlin should cost about 0.70 * 0.9 *\n",
    "1.4 = 0.88  with some random variation around that value."
   ]
  },
  {
   "cell_type": "code",
   "execution_count": 15,
   "metadata": {},
   "outputs": [],
   "source": [
    "# define the data for the stan model\n",
    "stan_data = {\n",
    "    'n': len(reshaped_data[0]),\n",
    "    'prices': reshaped_data[0],\n",
    "    # 1 for cheap, 2 for mid-range, 3 for expensive\n",
    "    'n_brands' : 3,\n",
    "    'brand' : reshaped_data[1].astype(int),\n",
    "    # by alphabet [Germany:1, Guatemala:2, Morocco: 3, South Korea: 4, UK:5, USA:6, Vietnam:7]\n",
    "    'n_countries' : 7,\n",
    "    'country' : reshaped_data[2].astype(int),\n",
    "    # product category 1(apple) through 10(chicken)\n",
    "    'n_products' : 10,\n",
    "    'product' : reshaped_data[3].astype(int),\n",
    "    # rent price\n",
    "    'rent' : reshaped_data[4],\n",
    "    \n",
    "    'mu_multiplier': -0.03125,  # 0.25**2/2, prior parameter\n",
    "    'sigma_multiplier':  0.25,  # prior parameter\n",
    "    \n",
    "    'mu_prod': 1.25,\n",
    "    'sigma_prod': 0.75\n",
    "}"
   ]
  },
  {
   "cell_type": "code",
   "execution_count": 16,
   "metadata": {},
   "outputs": [
    {
     "name": "stderr",
     "output_type": "stream",
     "text": [
      "INFO:pystan:COMPILING THE C++ CODE FOR MODEL anon_model_3ba57864030758a4ebd6bdeb40de62b1 NOW.\n"
     ]
    }
   ],
   "source": [
    "# define stan code\n",
    "stan_code = \"\"\"\n",
    "data {\n",
    "    int<lower=1> n; // no of data points\n",
    "    real<lower=0> prices[n]; // normalized price \n",
    "    int<lower=1> n_brands; // no of brand ratings (3)\n",
    "    int<lower=0> brand[n]; // brand rating for each data point\n",
    "    int<lower=1> n_countries; // no of countries (7)\n",
    "    int<lower=0> country[n]; // country of each data point\n",
    "    int<lower=1> n_products; // number of products (10)\n",
    "    int<lower=0> product[n]; // product for each data point\n",
    "    real mu_multiplier; // constant for prior\n",
    "    real sigma_multiplier; // constant for prior\n",
    "    real mu_prod; // constant for prior\n",
    "    real sigma_prod; // constant for prior\n",
    "}\n",
    "\n",
    "parameters {\n",
    "    real<lower = 0> average_price[n_products]; // average price for each product\n",
    "    real<lower = 0> sigma[n_products]; // standard deviation for each product\n",
    "    real<lower = 0> brand_multiplier[n_brands]; // multiplier for each brand\n",
    "    real<lower = 0> country_multiplier[n_countries]; // multiplier for each country\n",
    "}\n",
    "\n",
    "model {\n",
    "    brand_multiplier ~ lognormal(mu_multiplier,sigma_multiplier); // prior for brand multiplier\n",
    "    country_multiplier ~ lognormal(mu_multiplier,sigma_multiplier); // prior for country multiplier\n",
    "    average_price ~ lognormal(mu_prod,sigma_prod); // prior for product price\n",
    "    for (t in 1:n){ // likelihood for each data point to update the variables\n",
    "       prices[t] ~ normal(average_price[product[t]]*brand_multiplier[brand[t]]*country_multiplier[country[t]], sigma[product[t]]);\n",
    "    };\n",
    "    }\n",
    "\n",
    "\"\"\"\n",
    "# define stan model\n",
    "stan_model = pystan.StanModel(model_code=stan_code)"
   ]
  },
  {
   "cell_type": "code",
   "execution_count": 17,
   "metadata": {},
   "outputs": [
    {
     "name": "stdout",
     "output_type": "stream",
     "text": [
      "Inference for Stan model: anon_model_3ba57864030758a4ebd6bdeb40de62b1.\n",
      "4 chains, each with iter=2000; warmup=1000; thin=1; \n",
      "post-warmup draws per chain=1000, total post-warmup draws=4000.\n",
      "\n",
      "                        mean se_mean     sd     1%    50%    99%  n_eff   Rhat\n",
      "average_price[1]        3.74    0.03   0.58   2.54   3.69   5.35    517    1.0\n",
      "average_price[2]        1.81    0.01   0.28   1.24    1.8    2.6    537    1.0\n",
      "average_price[3]        4.68    0.03   0.71    3.2   4.62   6.62    522    1.0\n",
      "average_price[4]        1.72    0.01   0.26   1.17    1.7   2.47    523    1.0\n",
      "average_price[5]        1.96    0.01   0.49   0.99   1.91   3.36   1302    1.0\n",
      "average_price[6]        3.91    0.03    0.6    2.7   3.86   5.54    529    1.0\n",
      "average_price[7]        2.33    0.02   0.67   0.93   2.28   4.13   1817    1.0\n",
      "average_price[8]        8.99    0.06   1.35   6.19    8.9  12.74    518    1.0\n",
      "average_price[9]        4.16    0.03   0.91   2.37    4.1   6.64    854    1.0\n",
      "average_price[10]       8.94    0.06   1.35    6.1   8.84  12.71    529    1.0\n",
      "sigma[1]                 2.1  1.4e-3   0.11   1.86    2.1   2.39   6009    1.0\n",
      "sigma[2]                1.06  8.6e-4   0.06   0.93   1.06   1.22   5230    1.0\n",
      "sigma[3]                2.23  1.7e-3   0.12   1.97   2.23   2.55   5414    1.0\n",
      "sigma[4]                1.01  7.2e-4   0.05    0.9   1.01   1.15   5799    1.0\n",
      "sigma[5]                4.95  3.7e-3   0.27   4.35   4.94   5.64   5487    1.0\n",
      "sigma[6]                2.14  1.7e-3   0.12   1.88   2.13   2.45   5200    1.0\n",
      "sigma[7]                7.78  5.8e-3   0.43   6.88   7.76   8.83   5390    1.0\n",
      "sigma[8]                3.58  2.7e-3    0.2   3.16   3.58   4.09   5354    1.0\n",
      "sigma[9]                8.66  6.1e-3   0.45   7.73   8.64   9.82   5406    1.0\n",
      "sigma[10]               4.51  3.2e-3   0.26   3.96   4.51   5.18   6334    1.0\n",
      "brand_multiplier[1]     0.77  3.9e-3    0.1   0.56   0.77   1.04    699    1.0\n",
      "brand_multiplier[2]     0.96  4.9e-3   0.13    0.7   0.96   1.29    689    1.0\n",
      "brand_multiplier[3]     1.29  6.6e-3   0.17   0.91   1.28   1.72    680    1.0\n",
      "country_multiplier[1]   0.94  3.1e-3   0.09   0.74   0.94   1.16    831    1.0\n",
      "country_multiplier[2]   0.88  2.9e-3   0.11   0.66   0.88   1.16   1314    1.0\n",
      "country_multiplier[3]   0.68  2.3e-3   0.08   0.52   0.67   0.87   1138    1.0\n",
      "country_multiplier[4]   1.68  5.4e-3   0.19   1.28   1.67   2.16   1193    1.0\n",
      "country_multiplier[5]   0.97  3.3e-3    0.1   0.76   0.97    1.2    844    1.0\n",
      "country_multiplier[6]   1.08  3.6e-3    0.1   0.86   1.08   1.34    849    1.0\n",
      "country_multiplier[7]   0.86  3.0e-3    0.1   0.66   0.86   1.11   1027    1.0\n",
      "\n",
      "Samples were drawn using NUTS at Tue Nov 17 03:17:54 2020.\n",
      "For each parameter, n_eff is a crude measure of effective sample size,\n",
      "and Rhat is the potential scale reduction factor on split chains (at \n",
      "convergence, Rhat=1).\n"
     ]
    }
   ],
   "source": [
    "stan_results = stan_model.sampling(data=stan_data)\n",
    "print(stan_results.stansummary(pars=['average_price','sigma','brand_multiplier','country_multiplier'], probs=[0.01, 0.5, 0.99]))"
   ]
  },
  {
   "cell_type": "code",
   "execution_count": 18,
   "metadata": {},
   "outputs": [],
   "source": [
    "samples = stan_results.extract()"
   ]
  },
  {
   "cell_type": "code",
   "execution_count": 19,
   "metadata": {},
   "outputs": [
    {
     "name": "stdout",
     "output_type": "stream",
     "text": [
      "(10, 4000)\n",
      "(7, 4000)\n",
      "(3, 4000)\n"
     ]
    }
   ],
   "source": [
    "# we need to transpose the array to access one product at a time\n",
    "price_array = np.transpose(np.array(samples['average_price']))\n",
    "print(np.shape(price_array))\n",
    "# one country at a time\n",
    "country_array = np.transpose(np.array(samples['country_multiplier']))\n",
    "print(np.shape(country_array))\n",
    "# one store brand index at a time\n",
    "brand_array = np.transpose(np.array(samples['brand_multiplier']))\n",
    "print(np.shape(brand_array))"
   ]
  },
  {
   "cell_type": "code",
   "execution_count": 20,
   "metadata": {},
   "outputs": [
    {
     "name": "stdout",
     "output_type": "stream",
     "text": [
      "Posterior 98% confidence interval of the coefficient for budget (cheap) stores: [0.55899794 1.03937198]\n",
      "Posterior 98% confidence interval of the coefficient for mid-range stores: [0.69908181 1.28929041]\n",
      "Posterior 98% confidence interval of the coefficient for luxury(expensive) stores: [0.91440599 1.71877614]\n"
     ]
    },
    {
     "data": {
      "image/png": "[encoded data removed]",
      "text/plain": [
       "<Figure size 432x288 with 1 Axes>"
      ]
     },
     "metadata": {
      "needs_background": "light"
     },
     "output_type": "display_data"
    }
   ],
   "source": [
    "ratings = ['Budget (cheap)','Mid-range','Luxury(expensive)']\n",
    "plt.hist([x for x in brand_array], bins=50, density=True)\n",
    "plt.xlabel(\"Coeffient value\")\n",
    "plt.title('Sampled posterior probability density for brand multiplier')\n",
    "plt.legend(ratings)\n",
    "for n in range(len(brand_array)):\n",
    "    print(\n",
    "        \"Posterior 98% confidence interval of the coefficient for\",ratings[n].lower(),\"stores:\",\n",
    "        np.percentile(brand_array[n], [1, 99]))\n",
    "plt.show()"
   ]
  },
  {
   "cell_type": "code",
   "execution_count": 21,
   "metadata": {},
   "outputs": [
    {
     "name": "stdout",
     "output_type": "stream",
     "text": [
      "Posterior 98% confidence interval of the price for apples : [2.54444545 5.34997598]\n",
      "Posterior 98% confidence interval of the price for bananas : [1.23650496 2.59656782]\n",
      "Posterior 98% confidence interval of the price for tomatoes : [3.20633871 6.61401263]\n",
      "Posterior 98% confidence interval of the price for potatoes : [1.17512158 2.464969  ]\n",
      "Posterior 98% confidence interval of the price for flour : [0.98945757 3.35152973]\n",
      "Posterior 98% confidence interval of the price for rice : [2.70043907 5.53413807]\n",
      "Posterior 98% confidence interval of the price for milk : [0.92799987 4.13038366]\n",
      "Posterior 98% confidence interval of the price for butter : [ 6.19142857 12.72273894]\n",
      "Posterior 98% confidence interval of the price for eggs : [2.370266   6.64290982]\n",
      "Posterior 98% confidence interval of the price for chicken : [ 6.10713133 12.69967071]\n"
     ]
    },
    {
     "data": {
      "image/png": "[encoded data removed]",
      "text/plain": [
       "<Figure size 432x288 with 1 Axes>"
      ]
     },
     "metadata": {
      "needs_background": "light"
     },
     "output_type": "display_data"
    }
   ],
   "source": [
    "plt.hist([x for x in price_array[0:3]],bins=50,density=True)\n",
    "plt.xlabel(\"price of product (EUR)\")\n",
    "plt.title('Fruit and veggies')\n",
    "plt.legend(products)\n",
    "for n in range(10):\n",
    "    print(\n",
    "        \"Posterior 98% confidence interval of the price for\",products[n],\":\",\n",
    "        np.percentile(price_array[n], [1, 99]))\n",
    "plt.show()"
   ]
  },
  {
   "cell_type": "code",
   "execution_count": 22,
   "metadata": {},
   "outputs": [
    {
     "data": {
      "image/png": "[encoded data removed]",
      "text/plain": [
       "<Figure size 432x288 with 1 Axes>"
      ]
     },
     "metadata": {
      "needs_background": "light"
     },
     "output_type": "display_data"
    }
   ],
   "source": [
    "plt.hist([x for x in price_array[3:6]],bins=50,density=True)\n",
    "plt.xlabel(\"price of product (EUR)\")\n",
    "plt.title('Starchy foods')\n",
    "plt.legend(products[3:6])\n",
    "plt.show()"
   ]
  },
  {
   "cell_type": "code",
   "execution_count": 39,
   "metadata": {},
   "outputs": [
    {
     "data": {
      "image/png": "[encoded data removed]",
      "text/plain": [
       "<Figure size 432x288 with 1 Axes>"
      ]
     },
     "metadata": {
      "needs_background": "light"
     },
     "output_type": "display_data"
    }
   ],
   "source": [
    "plt.hist([x for x in price_array[6:10]],bins=50,density=True)\n",
    "plt.xlabel(\"price of meat and dairy (EUR)\")\n",
    "plt.title('Meat and Dairy')\n",
    "plt.legend(products[6:10])\n",
    "plt.show()"
   ]
  },
  {
   "cell_type": "code",
   "execution_count": 24,
   "metadata": {},
   "outputs": [],
   "source": [
    "#GDP per person per year in EUR (produced in Mathematica)\n",
    "gdp = [38972.5, 3692.88, 2755.2, 27136.6, 35433.3, 55113.8, 2298.16]\n",
    "country_mean_coefficient = [np.mean(country_array[n]) for n in range(7)]"
   ]
  },
  {
   "cell_type": "code",
   "execution_count": 25,
   "metadata": {},
   "outputs": [
    {
     "name": "stdout",
     "output_type": "stream",
     "text": [
      "Posterior 98% confidence interval of the coefficient for Germany stores: [0.73877565 1.1575685 ]\n",
      "Posterior 98% confidence interval of the coefficient for Guatemala stores: [0.65707707 1.15900927]\n",
      "Posterior 98% confidence interval of the coefficient for Morocco stores: [0.5162576  0.87246012]\n",
      "Posterior 98% confidence interval of the coefficient for South Korea stores: [1.27700266 2.15775338]\n",
      "Posterior 98% confidence interval of the coefficient for UK stores: [0.76520455 1.20349472]\n",
      "Posterior 98% confidence interval of the coefficient for USA stores: [0.86124578 1.33941861]\n",
      "Posterior 98% confidence interval of the coefficient for Vietnam stores: [0.65829079 1.11003189]\n"
     ]
    },
    {
     "data": {
      "image/png": "[encoded data removed]",
      "text/plain": [
       "<Figure size 432x288 with 1 Axes>"
      ]
     },
     "metadata": {
      "needs_background": "light"
     },
     "output_type": "display_data"
    }
   ],
   "source": [
    "plt.hist([x for x in country_array[0:4]], bins=50, density=True)\n",
    "plt.xlabel(\"Coeffient value\")\n",
    "plt.title('Sampled posterior probability density for country multiplier')\n",
    "plt.legend(countries)\n",
    "for n in range(len(country_array)):\n",
    "    print(\n",
    "        \"Posterior 98% confidence interval of the coefficient for\",countries[n],\"stores:\",\n",
    "        np.percentile(country_array[n], [1, 99]))\n",
    "plt.show()"
   ]
  },
  {
   "cell_type": "code",
   "execution_count": 26,
   "metadata": {},
   "outputs": [
    {
     "data": {
      "image/png": "[encoded data removed]",
      "text/plain": [
       "<Figure size 432x288 with 1 Axes>"
      ]
     },
     "metadata": {
      "needs_background": "light"
     },
     "output_type": "display_data"
    }
   ],
   "source": [
    "plt.hist([x for x in country_array[4:8]], bins=50, density=True)\n",
    "plt.xlabel(\"Coeffient value\")\n",
    "plt.title('Sampled posterior probability density for brand multiplier')\n",
    "plt.legend(countries[4:8])\n",
    "plt.show()"
   ]
  },
  {
   "cell_type": "code",
   "execution_count": 27,
   "metadata": {},
   "outputs": [
    {
     "data": {
      "text/plain": [
       "['Germany', 'Guatemala', 'Morocco', 'South Korea', 'UK', 'USA', 'Vietnam']"
      ]
     },
     "execution_count": 27,
     "metadata": {},
     "output_type": "execute_result"
    }
   ],
   "source": [
    "countries"
   ]
  },
  {
   "cell_type": "code",
   "execution_count": 28,
   "metadata": {},
   "outputs": [
    {
     "data": {
      "image/png": "[encoded data removed]",
      "text/plain": [
       "<Figure size 432x288 with 1 Axes>"
      ]
     },
     "metadata": {
      "needs_background": "light"
     },
     "output_type": "display_data"
    }
   ],
   "source": [
    "plt.scatter(gdp,country_mean_coefficient)\n",
    "plt.xlabel('GDP per capita in EUR')\n",
    "plt.ylabel('coefficient assigned by the model')\n",
    "for i, txt in enumerate(countries):\n",
    "    if i==6:\n",
    "        plt.annotate(txt,(gdp[i]+1000,country_mean_coefficient[i]-0.04))\n",
    "    elif i==5:\n",
    "        plt.annotate(txt,(gdp[i]-5000,country_mean_coefficient[i]))\n",
    "    else:\n",
    "        plt.annotate(txt,(gdp[i]+1000,country_mean_coefficient[i]))\n",
    "plt.show()"
   ]
  },
  {
   "cell_type": "markdown",
   "metadata": {},
   "source": [
    "## Rent instead of country"
   ]
  },
  {
   "cell_type": "code",
   "execution_count": 29,
   "metadata": {},
   "outputs": [
    {
     "name": "stderr",
     "output_type": "stream",
     "text": [
      "INFO:pystan:COMPILING THE C++ CODE FOR MODEL anon_model_1d7983c61ff69a48fa4c827fe67b66c8 NOW.\n"
     ]
    }
   ],
   "source": [
    "# define stan code\n",
    "rent_stan_code = \"\"\"\n",
    "data {\n",
    "    int<lower=1> n; // no of data points\n",
    "    real<lower=0> prices[n]; // normalized price \n",
    "    int<lower=1> n_brands; // no of brand ratings (3)\n",
    "    int<lower=0> brand[n]; // brand rating for each data point\n",
    "    real<lower=0> rent[n]; // the rent in the supermarket neighborhood\n",
    "    int<lower=1> n_products; // number of products (10)\n",
    "    int<lower=0> product[n]; // product for each data point\n",
    "    real mu_multiplier; // constant for prior\n",
    "    real sigma_multiplier; // constant for prior\n",
    "    real mu_prod; // constant for prior\n",
    "    real sigma_prod; // constant for prior\n",
    "}\n",
    "\n",
    "parameters {\n",
    "    real<lower = 0> average_price[n_products]; // average price for each product\n",
    "    real<lower = 0> sigma[n_products]; // standard deviation for each product\n",
    "    real<lower = 0> brand_multiplier[n_brands]; // multiplier for each brand\n",
    "    real rent_rescaling; // slope for rent linear regression\n",
    "    real rent_intercept; // intercept for rent linear regression \n",
    "}\n",
    "\n",
    "model {\n",
    "    brand_multiplier ~ lognormal(mu_multiplier,sigma_multiplier); // prior for country multiplier\n",
    "    average_price ~ lognormal(mu_prod,sigma_prod); // prior for product price\n",
    "    for (t in 1:n){ // likelihood for each data point to update the variables\n",
    "       prices[t] ~ normal(average_price[product[t]]*(rent_rescaling*rent[t]+rent_intercept)*brand_multiplier[brand[t]], sigma[product[t]]);\n",
    "    };\n",
    "    }\n",
    "\n",
    "\"\"\"\n",
    "# define stan model\n",
    "rent_stan_model = pystan.StanModel(model_code=rent_stan_code)"
   ]
  },
  {
   "cell_type": "code",
   "execution_count": 40,
   "metadata": {},
   "outputs": [
    {
     "name": "stderr",
     "output_type": "stream",
     "text": [
      "WARNING:pystan:136 of 4000 iterations ended with a divergence (3.4 %).\n",
      "WARNING:pystan:Try running with adapt_delta larger than 0.8 to remove the divergences.\n",
      "WARNING:pystan:3171 of 4000 iterations saturated the maximum tree depth of 10 (79.3 %)\n",
      "WARNING:pystan:Run again with max_treedepth larger than 10 to avoid saturation\n"
     ]
    },
    {
     "name": "stdout",
     "output_type": "stream",
     "text": [
      "Inference for Stan model: anon_model_1d7983c61ff69a48fa4c827fe67b66c8.\n",
      "4 chains, each with iter=2000; warmup=1000; thin=1; \n",
      "post-warmup draws per chain=1000, total post-warmup draws=4000.\n",
      "\n",
      "                      mean se_mean     sd     1%    50%    99%  n_eff   Rhat\n",
      "average_price[1]      3.39    0.04    0.8   1.91   3.31   5.48    354    1.0\n",
      "average_price[2]      1.59    0.02   0.38   0.89   1.55    2.6    364    1.0\n",
      "average_price[3]      4.11    0.05   0.97   2.33   4.02   6.59    347    1.0\n",
      "average_price[4]      1.55    0.02   0.37   0.86   1.52   2.52    356    1.0\n",
      "average_price[5]      1.79    0.02   0.55   0.82   1.72    3.4    555    1.0\n",
      "average_price[6]      3.56    0.05   0.84   2.01   3.47   5.75    349    1.0\n",
      "average_price[7]      2.15    0.03   0.71   0.91   2.05   4.25    595    1.0\n",
      "average_price[8]      8.09     0.1    1.9   4.57   7.91  13.18    350    1.0\n",
      "average_price[9]      3.78    0.05   1.06   1.82   3.65   6.82    463    1.0\n",
      "average_price[10]     8.13     0.1   1.92   4.58   7.94  13.35    354    1.0\n",
      "brand_multiplier[1]   0.73  2.9e-3    0.1   0.52   0.73    1.0   1317    1.0\n",
      "brand_multiplier[2]   0.95  3.8e-3   0.13   0.68   0.94   1.29   1222    1.0\n",
      "brand_multiplier[3]   1.16  4.7e-3   0.17   0.82   1.15    1.6   1229    1.0\n",
      "rent_rescaling      7.6e-5  1.0e-6 2.9e-5 2.6e-5 7.2e-5 1.6e-4    806    1.0\n",
      "rent_intercept        1.06    0.01   0.29   0.61   1.01    1.9    437    1.0\n",
      "\n",
      "Samples were drawn using NUTS at Tue Nov 17 03:37:28 2020.\n",
      "For each parameter, n_eff is a crude measure of effective sample size,\n",
      "and Rhat is the potential scale reduction factor on split chains (at \n",
      "convergence, Rhat=1).\n"
     ]
    }
   ],
   "source": [
    "rent_stan_results = rent_stan_model.sampling(data=stan_data)\n",
    "print(rent_stan_results.stansummary(pars=['average_price','brand_multiplier','rent_rescaling','rent_intercept' ], probs=[0.01, 0.5, 0.99]))"
   ]
  },
  {
   "cell_type": "code",
   "execution_count": 42,
   "metadata": {},
   "outputs": [],
   "source": [
    "rent_samples = rent_stan_results.extract()"
   ]
  },
  {
   "cell_type": "code",
   "execution_count": 43,
   "metadata": {},
   "outputs": [
    {
     "data": {
      "image/png": "[encoded data removed]",
      "text/plain": [
       "<Figure size 432x288 with 1 Axes>"
      ]
     },
     "metadata": {
      "needs_background": "light"
     },
     "output_type": "display_data"
    }
   ],
   "source": [
    "plt.hist([rent_samples['rent_rescaling']],bins=50,density=True)\n",
    "plt.xlabel(\"value of rent rescaling\")\n",
    "plt.title('Posterior over rent rescaling factor')\n",
    "plt.show()"
   ]
  },
  {
   "cell_type": "code",
   "execution_count": 44,
   "metadata": {},
   "outputs": [
    {
     "data": {
      "image/png": "[encoded data removed]",
      "text/plain": [
       "<Figure size 432x288 with 1 Axes>"
      ]
     },
     "metadata": {
      "needs_background": "light"
     },
     "output_type": "display_data"
    }
   ],
   "source": [
    "plt.hist([rent_samples['rent_intercept']],bins=50,density=True)\n",
    "plt.xlabel(\"value of rent intercept\")\n",
    "plt.title('Posterior over rent intercept')\n",
    "plt.show()"
   ]
  },
  {
   "cell_type": "code",
   "execution_count": 45,
   "metadata": {},
   "outputs": [],
   "source": [
    "apple_price = []\n",
    "apple_rent = []\n",
    "chicken_price = []\n",
    "chicken_rent = []\n",
    "for point in np.transpose(reshaped_data):\n",
    "    if point[3] == 1:\n",
    "        apple_price.append(point[0])\n",
    "        apple_rent.append(point[4])\n",
    "    if point[3] ==10:\n",
    "        chicken_price.append(point[0])\n",
    "        chicken_rent.append(point[4])\n",
    "        "
   ]
  },
  {
   "cell_type": "code",
   "execution_count": 46,
   "metadata": {},
   "outputs": [
    {
     "data": {
      "image/png": "[encoded data removed]",
      "text/plain": [
       "<Figure size 432x288 with 1 Axes>"
      ]
     },
     "metadata": {
      "needs_background": "light"
     },
     "output_type": "display_data"
    }
   ],
   "source": [
    "plt.scatter(apple_rent,apple_price)\n",
    "plt.scatter(chicken_rent,chicken_price)\n",
    "plt.xlabel(\"Rent\")\n",
    "plt.ylabel(\"Price of Product (EUR)\")\n",
    "plt.legend([\"apple\",\"chicken\"])\n",
    "plt.show()"
   ]
  },
  {
   "cell_type": "code",
   "execution_count": 47,
   "metadata": {},
   "outputs": [
    {
     "data": {
      "image/png": "[encoded data removed]",
      "text/plain": [
       "<Figure size 432x288 with 1 Axes>"
      ]
     },
     "metadata": {
      "needs_background": "light"
     },
     "output_type": "display_data"
    }
   ],
   "source": [
    "plt.scatter(reshaped_data[4],reshaped_data[0])\n",
    "plt.xlabel(\"Rent\")\n",
    "plt.ylabel(\"Price of Product (EUR)\")\n",
    "plt.show()"
   ]
  },
  {
   "cell_type": "code",
   "execution_count": 48,
   "metadata": {},
   "outputs": [
    {
     "name": "stdout",
     "output_type": "stream",
     "text": [
      "(10, 4000)\n"
     ]
    }
   ],
   "source": [
    "# we need to transpose the array to access one product at a time\n",
    "rent_price_array = np.transpose(np.array(rent_samples['average_price']))\n",
    "print(np.shape(rent_price_array))"
   ]
  },
  {
   "cell_type": "code",
   "execution_count": 49,
   "metadata": {},
   "outputs": [
    {
     "data": {
      "image/png": "[encoded data removed]",
      "text/plain": [
       "<Figure size 432x288 with 1 Axes>"
      ]
     },
     "metadata": {
      "needs_background": "light"
     },
     "output_type": "display_data"
    }
   ],
   "source": [
    "plt.hist([price_array[0],rent_price_array[0]], bins=50)\n",
    "plt.xlabel('price(EUR)')\n",
    "plt.title('posterior over the average price of apples comparison')\n",
    "plt.legend([\"Country Model\",\"Rent Model\"])\n",
    "plt.show()"
   ]
  },
  {
   "cell_type": "code",
   "execution_count": null,
   "metadata": {},
   "outputs": [],
   "source": []
  }
 ],
 "metadata": {
  "kernelspec": {
   "display_name": "Python 3",
   "language": "python",
   "name": "python3"
  },
  "language_info": {
   "codemirror_mode": {
    "name": "ipython",
    "version": 3
   },
   "file_extension": ".py",
   "mimetype": "text/x-python",
   "name": "python",
   "nbconvert_exporter": "python",
   "pygments_lexer": "ipython3",
   "version": "3.7.7"
  }
 },
 "nbformat": 4,
 "nbformat_minor": 4
}
