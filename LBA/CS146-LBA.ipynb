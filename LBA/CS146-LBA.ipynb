{
 "cells": [
  {
   "cell_type": "markdown",
   "metadata": {},
   "source": [
    "# LBA: Grocery store prices\n",
    "In this assignment, we model the cost of groceries in different parts of the world. To what extent do\n",
    "grocery prices vary by country and store brand? Are grocery prices and the geographical\n",
    "distribution of different grocery stores correlated with other cost-of-living measures- for example,\n",
    "rent and real estate prices?"
   ]
  },
  {
   "cell_type": "markdown",
   "metadata": {},
   "source": [
    "## Task 1: Prices\n",
    "What is the basic average price for each product? You need to think carefully about how to\n",
    "anchor the basic price for each product since this will depend on the currency used as well\n",
    "as the distribution of prices.<br><br>\n",
    "\n",
    "- Anchor in Euros\n",
    "- Anchor at units that make sense for each category but is base 10 metric, e.g. milk in l, apples and potatoes in kg, meat and butter in 0.1kg. "
   ]
  },
  {
   "cell_type": "code",
   "execution_count": 14,
   "metadata": {},
   "outputs": [
    {
     "data": {
      "text/plain": [
       "85.87376556462"
      ]
     },
     "execution_count": 14,
     "metadata": {},
     "output_type": "execute_result"
    }
   ],
   "source": [
    "## test a currency conversion package\n",
    "# pip install CurrencyConverter\n",
    "from currency_converter import CurrencyConverter\n",
    "from datetime import date\n",
    "c = CurrencyConverter()\n",
    "c.convert(100,'USD','EUR', date=date(2020, 9, 24))"
   ]
  },
  {
   "cell_type": "markdown",
   "metadata": {},
   "source": [
    "## Task 2: Factors influencing prices\n",
    "How much does each of the following factors modify the basic price of the product (up or\n",
    "down)?\n",
    "- The geographical location (country) of the grocery store.\n",
    "- Brand of the grocery store. Since we are getting data from multiple countries, you will need to specify whether the store brand is considered budget (cheap), mid-range, or luxury (expensive). This should be based on what you think the general public perception of the store brand is.\n",
    "- Does price variation by geographical location correlate with variation in rental prices, or\n",
    "not?\n",
    "\n",
    "Explain in your report how strong each of these effects is. Which has the greatest influence\n",
    "on price variation between shops?\n",
    "\n",
    "Notes:\n",
    "- Two levels of categorical variables\n",
    "    - country\n",
    "    - grocery store rating\n",
    "- one numeric variable: rent price\n",
    "- Determine significance and size of the variation between categories"
   ]
  },
  {
   "cell_type": "code",
   "execution_count": null,
   "metadata": {},
   "outputs": [],
   "source": []
  }
 ],
 "metadata": {
  "kernelspec": {
   "display_name": "Python 3",
   "language": "python",
   "name": "python3"
  },
  "language_info": {
   "codemirror_mode": {
    "name": "ipython",
    "version": 3
   },
   "file_extension": ".py",
   "mimetype": "text/x-python",
   "name": "python",
   "nbconvert_exporter": "python",
   "pygments_lexer": "ipython3",
   "version": "3.7.7"
  }
 },
 "nbformat": 4,
 "nbformat_minor": 4
}
