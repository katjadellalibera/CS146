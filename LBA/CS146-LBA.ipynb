{
 "cells": [
  {
   "cell_type": "markdown",
   "metadata": {},
   "source": [
    "# LBA: Grocery store prices\n",
    "In this assignment, we model the cost of groceries in different parts of the world. To what extent do\n",
    "grocery prices vary by country and store brand? Are grocery prices and the geographical\n",
    "distribution of different grocery stores correlated with other cost-of-living measures- for example,\n",
    "rent and real estate prices?"
   ]
  },
  {
   "cell_type": "markdown",
   "metadata": {},
   "source": [
    "## Task 1: Prices\n",
    "What is the basic average price for each product? You need to think carefully about how to\n",
    "anchor the basic price for each product since this will depend on the currency used as well\n",
    "as the distribution of prices.<br><br>\n",
    "\n",
    "- Anchor in Euros\n",
    "- Anchor at units that make sense for each category but is base 10 metric, e.g. milk in l, apples and potatoes in kg, meat, tomatoes, and butter in 0.1kg. "
   ]
  },
  {
   "cell_type": "code",
   "execution_count": 1,
   "metadata": {},
   "outputs": [],
   "source": [
    "import json\n",
    "import numpy as np\n",
    "import matplotlib.pyplot as plt\n",
    "import pystan\n",
    "import scipy.stats as stats"
   ]
  },
  {
   "cell_type": "markdown",
   "metadata": {},
   "source": [
    "### Processing done before import\n",
    "- changed country column to be standardized:\n",
    "    - USA, UK, Germany (got rid of cities and alternative names for the countries)\n",
    "    - Also change supermarket names to make sure the same market would have the same name there (e.g. 4 people went to the 4th street Trader Joe's)\n",
    "- turned all rent prices into one number \n",
    "    - In 3 largest cities, looked up the price myself to be consistent in source within the city\n",
    "        - San Francisco: https://www.zumper.com/blog/map-san-francisco-neighborhood-rent-prices-fall-2018/\n",
    "        - Berlin: https://www.immobilienscout24.de/content/dam/is24/ibw/dokumente/mietmap_berlin_2020.jpg (this is the 2020 version of the 2016 map from the instructions)\n",
    "        - London: https://maps.london.gov.uk/rents/ the official government map. I set it to 2 bedroom to approximate the Berlin one.\n",
    "    - All other cities\n",
    "        - took average where a range was given\n",
    "        - converted to the country's currency where different unit was given\n",
    "- sorted first by submitter then by country in excel\n",
    "- exported to tsv to avoid commas in people's responses\n",
    "- verified outliers with the authors, for example the 73GBP for bananas should be 0.73GBP\n",
    "- used Mathematica to create a dictionary of conversion rates to EUR"
   ]
  },
  {
   "cell_type": "code",
   "execution_count": 2,
   "metadata": {},
   "outputs": [],
   "source": [
    "# import the data\n",
    "data = np.loadtxt(\"LBAData.tsv\", delimiter=\"\\t\",dtype=object)\n",
    "with open(\"conversions.json\") as file:\n",
    "    conversions = json.load(file)"
   ]
  },
  {
   "cell_type": "code",
   "execution_count": 3,
   "metadata": {},
   "outputs": [
    {
     "name": "stdout",
     "output_type": "stream",
     "text": [
      "The dimesnions of the data set: (65, 68)\n",
      "An example data point: ['10/30/2020 15:38:17' 'a.bricken@minerva.kgi.edu' 'Alexander Bricken'\n",
      " 'Germany' 'EUR' 'EDEKA, Str. der Pariser Kommune 38, 10243 Berlin'\n",
      " 'Mid-range' '915' '1' '3.42' '1' '3.55' '1' '4.44' '1' '0.86' '1' '1.95'\n",
      " '1' '1.95' '1' '3.42' '1' '3.89' '1' '4.88' '1' '0.58' '1' '0.58' '1'\n",
      " '1.69' '1' '1.34' '1' '0.97' '1' '0.87' '1' '7.4' '1' '6.5' '1' '7.81'\n",
      " '1' '1.65' '1' '0.76' '1' '1.05' '1' '8.6' '1' '8.9' '1' '9.2' '6' '1.56'\n",
      " '6' '1.75' '6' '2.44' '1' '7.45' '1' '9.8' '1' '8.25']\n"
     ]
    }
   ],
   "source": [
    "#dimensions\n",
    "print(\"The dimesnions of the data set:\",np.shape(data))\n",
    "#example datapoint\n",
    "print(\"An example data point:\",data[4])"
   ]
  },
  {
   "cell_type": "code",
   "execution_count": 4,
   "metadata": {},
   "outputs": [
    {
     "name": "stdout",
     "output_type": "stream",
     "text": [
      "{'country': 3, 'currency': 4, 'brand': 6, 'rent': 7, 'apples0': 8, 'apples1': 10, 'apples2': 12, 'bananas0': 14, 'bananas1': 16, 'bananas2': 18, 'tomatoes0': 20, 'tomatoes1': 22, 'tomatoes2': 24, 'potatoes0': 26, 'potatoes1': 28, 'potatoes2': 30, 'flour0': 32, 'flour1': 34, 'flour2': 36, 'rice0': 38, 'rice1': 40, 'rice2': 42, 'milk0': 44, 'milk1': 46, 'milk2': 48, 'butter0': 50, 'butter1': 52, 'butter2': 54, 'eggs0': 56, 'eggs1': 58, 'eggs2': 60, 'chicken0': 62, 'chicken1': 64, 'chicken2': 66}\n"
     ]
    }
   ],
   "source": [
    "# make a dictionary to encode all the indexes\n",
    "products = ['apples','bananas','tomatoes','potatoes','flour','rice','milk','butter','eggs','chicken']\n",
    "indexes = {'country': 3,\n",
    "          'currency': 4,\n",
    "          'brand': 6,\n",
    "          'rent': 7}\n",
    "\n",
    "for no, prod in enumerate(products):\n",
    "    for i in range (3):\n",
    "        indexes[prod + str(i)] = 8+6*no+i*2\n",
    "print(indexes)"
   ]
  },
  {
   "cell_type": "code",
   "execution_count": 5,
   "metadata": {},
   "outputs": [
    {
     "data": {
      "text/plain": [
       "array(['Product 1 quantity (kg)', '1', '1', '1', '1', '1', '1', '1', '1',\n",
       "       '1', '1', '1', '1', '1', '1', '1', '1', '1', '1', '1', '1', '1',\n",
       "       '1', '1.36078', '1.36078', '1', '1', '1', '1', '3.5', '1', '1',\n",
       "       '0.118', '0.118', '1', '1', '0.54', '1', '0.6', '0.6', '1', '1',\n",
       "       '0.78', '0.9', '1', '1', '0.453592', '0.453592', '0.2', '0.12',\n",
       "       '1.3608', '0.4536', '1', '0.118', '0.45', '0.45', '0.45', '1',\n",
       "       '0.91', '0.118', '0.4535924', '0.453592', '1', '1', '0.5'],\n",
       "      dtype=object)"
      ]
     },
     "execution_count": 5,
     "metadata": {},
     "output_type": "execute_result"
    }
   ],
   "source": [
    "# show all the quantities for one product\n",
    "data[:,indexes['bananas0']]"
   ]
  },
  {
   "cell_type": "code",
   "execution_count": 6,
   "metadata": {},
   "outputs": [],
   "source": [
    "# write a function that normalizes by target unit and converts the currency\n",
    "def get_normalized_price(i, target_unit):\n",
    "    # set all missing prices to 0 to filter them out later\n",
    "    units = np.array([1 if x==\"\" else x for x in data[1:,i]], dtype=np.float)\n",
    "    price = np.array([0 if x==\"\" else x for x in data[1:,i+1]], dtype=np.float)\n",
    "    normalized_price = price/units*target_unit\n",
    "    normalized_price_EUR = []\n",
    "    for no, x  in enumerate(normalized_price):\n",
    "        normalized_price_EUR.append( x*conversions[str(data[no+1,indexes['currency']])] )\n",
    "    return normalized_price_EUR"
   ]
  },
  {
   "cell_type": "code",
   "execution_count": 41,
   "metadata": {},
   "outputs": [],
   "source": [
    "apples = np.transpose([get_normalized_price(indexes['apples0'],1),\n",
    "           get_normalized_price(indexes['apples1'],1),\n",
    "           get_normalized_price(indexes['apples2'],1)])\n",
    "bananas = np.transpose([get_normalized_price(indexes['bananas0'],1),\n",
    "           get_normalized_price(indexes['bananas1'],1),\n",
    "           get_normalized_price(indexes['bananas2'],1)])\n",
    "# measure tomatoes in 100g\n",
    "tomatoes = np.transpose([get_normalized_price(indexes['tomatoes0'],0.1),\n",
    "           get_normalized_price(indexes['tomatoes1'],1),\n",
    "           get_normalized_price(indexes['tomatoes2'],1)])\n",
    "potatoes = np.transpose([get_normalized_price(indexes['potatoes0'],1),\n",
    "           get_normalized_price(indexes['potatoes1'],1),\n",
    "           get_normalized_price(indexes['potatoes2'],1)])\n",
    "flour = np.transpose([get_normalized_price(indexes['flour0'],1),\n",
    "           get_normalized_price(indexes['flour1'],1),\n",
    "           get_normalized_price(indexes['flour2'],1)])\n",
    "rice = np.transpose([get_normalized_price(indexes['rice0'],1),\n",
    "           get_normalized_price(indexes['rice1'],1),\n",
    "           get_normalized_price(indexes['rice2'],1)])\n",
    "milk = np.transpose([get_normalized_price(indexes['milk0'],1),\n",
    "           get_normalized_price(indexes['milk1'],1),\n",
    "           get_normalized_price(indexes['milk2'],1)])\n",
    "# measure butter in 100g\n",
    "butter = np.transpose([get_normalized_price(indexes['butter0'],0.1),\n",
    "           get_normalized_price(indexes['butter1'],0.1),\n",
    "           get_normalized_price(indexes['butter2'],0.1)])\n",
    "# get 10 eggs, the common unit in Germany (so EUR)\n",
    "eggs = np.transpose([get_normalized_price(indexes['eggs0'],10),\n",
    "           get_normalized_price(indexes['eggs1'],10),\n",
    "           get_normalized_price(indexes['eggs2'],10)])\n",
    "# measure butter in 100g\n",
    "chicken = np.transpose([get_normalized_price(indexes['chicken0'],1),\n",
    "           get_normalized_price(indexes['chicken1'],1),\n",
    "           get_normalized_price(indexes['chicken2'],1)])"
   ]
  },
  {
   "cell_type": "code",
   "execution_count": 42,
   "metadata": {},
   "outputs": [
    {
     "data": {
      "image/png": "[encoded data removed]",
      "text/plain": [
       "<Figure size 432x288 with 1 Axes>"
      ]
     },
     "metadata": {
      "needs_background": "light"
     },
     "output_type": "display_data"
    }
   ],
   "source": [
    "plt.hist([butter.flatten(),chicken.flatten()])\n",
    "plt.show()"
   ]
  },
  {
   "cell_type": "code",
   "execution_count": 43,
   "metadata": {},
   "outputs": [],
   "source": [
    "# also adjust the rent prices by country currency\n",
    "rent = []\n",
    "for no, x in enumerate(data[1:,indexes['rent']]):\n",
    "    x = x.replace(',','')\n",
    "    x = float(x.replace('$',''))\n",
    "    new_price = x*conversions[str(data[no+1,indexes['currency']])]\n",
    "    rent.append(new_price)"
   ]
  },
  {
   "cell_type": "code",
   "execution_count": 44,
   "metadata": {},
   "outputs": [],
   "source": [
    "# a dictionary for the brand code and country code\n",
    "# I 1-index them since stan uses 1 index\n",
    "brand_code = {'Budget (cheap)': 1,'Mid-range': 2, 'Luxury (expensive)': 3}\n",
    "country_code = {'Germany': 1, 'Guatemala': 2, 'Morocco': 3, 'South Korea': 4, 'UK': 5, 'USA': 6, 'Vietnam': 7}"
   ]
  },
  {
   "cell_type": "code",
   "execution_count": 45,
   "metadata": {},
   "outputs": [],
   "source": [
    "# dictionary to encode the brand perception\n",
    "# create a list of four lists representing the price, brand perception country, product and rent price\n",
    "\n",
    "product_data = [apples,bananas,tomatoes,potatoes,flour,rice,milk,butter,eggs,chicken]\n",
    "product = []\n",
    "price = []\n",
    "brand = []\n",
    "country = []\n",
    "rent_cost = []\n",
    "for n, p in enumerate(product_data): # each product (10 total)\n",
    "    for i, x in enumerate(p): # each supermarket (64 total)\n",
    "        for p in x: # each price (3 total)\n",
    "            if p != 0:\n",
    "                # the number of the product\n",
    "                product.append(n+1)\n",
    "                # the price of the product\n",
    "                price.append(p)\n",
    "                # the brand perception of the product\n",
    "                brand.append(brand_code[data[i+1,indexes['brand']]])\n",
    "                # the country of the procuct\n",
    "                country.append(country_code[data[i+1,indexes['country']]])\n",
    "                # the cost of rent close to the supermarket\n",
    "                rent_cost.append(rent[i])\n",
    "reshaped_data = np.array([price,brand,country,product,rent_cost])"
   ]
  },
  {
   "cell_type": "code",
   "execution_count": 46,
   "metadata": {},
   "outputs": [
    {
     "name": "stdout",
     "output_type": "stream",
     "text": [
      "An example data point in our new dataset: [2.730e+00 2.000e+00 1.000e+00 1.000e+00 1.015e+03] \n",
      " price of 2.730 euro, in a mid-range store, in Germany, for apples, where rent costs 1015 EUR.\n"
     ]
    }
   ],
   "source": [
    "print(\"An example data point in our new dataset:\",reshaped_data[:,4],\"\\n price of 2.730 euro, in a mid-range store, in Germany, for apples, where rent costs 1015 EUR.\")"
   ]
  },
  {
   "cell_type": "code",
   "execution_count": 47,
   "metadata": {},
   "outputs": [],
   "source": [
    "# group the rent by country\n",
    "rent_by_country = {}\n",
    "for i, x in enumerate(rent):\n",
    "    if data[i+1,indexes['country']] in rent_by_country.keys() and x != 0:\n",
    "        rent_by_country[data[i+1,indexes['country']]].append(x)\n",
    "    elif x != 0:\n",
    "        rent_by_country[data[i+1,indexes['country']]] = [x]"
   ]
  },
  {
   "cell_type": "code",
   "execution_count": 48,
   "metadata": {},
   "outputs": [
    {
     "data": {
      "image/png": "[encoded data removed]",
      "text/plain": [
       "<Figure size 432x288 with 1 Axes>"
      ]
     },
     "metadata": {
      "needs_background": "light"
     },
     "output_type": "display_data"
    }
   ],
   "source": [
    "countries = list(rent_by_country.keys())\n",
    "by_country_list = [rent_by_country[key] for key in countries]\n",
    "plt.hist(by_country_list,20, histtype='bar', stacked=True, label=countries)\n",
    "plt.legend(prop={'size': 10})\n",
    "plt.show()"
   ]
  },
  {
   "cell_type": "markdown",
   "metadata": {},
   "source": [
    "## Task 2: Factors influencing prices\n",
    "How much does each of the following factors modify the basic price of the product (up or\n",
    "down)?\n",
    "- The geographical location (country) of the grocery store.\n",
    "- Brand of the grocery store. Since we are getting data from multiple countries, you will need to specify whether the store brand is considered budget (cheap), mid-range, or luxury (expensive). This should be based on what you think the general public perception of the store brand is.\n",
    "- Does price variation by geographical location correlate with variation in rental prices, or\n",
    "not?\n",
    "\n",
    "Explain in your report how strong each of these effects is. Which has the greatest influence\n",
    "on price variation between shops?\n",
    "\n",
    "Notes:\n",
    "- Two levels of categorical variables\n",
    "    - country\n",
    "    - grocery store rating\n",
    "- one numeric variable: rent price\n",
    "- Determine significance and size of the variation between categories"
   ]
  },
  {
   "cell_type": "code",
   "execution_count": null,
   "metadata": {},
   "outputs": [],
   "source": []
  },
  {
   "cell_type": "markdown",
   "metadata": {},
   "source": [
    "# Model\n",
    "You are encouraged to use the model structure described below for this assignment. However, you\n",
    "may modify the model if you have ideas on how to improve it. If you do decide to modify the model,\n",
    "you have to do so in a way that still allows you to address all points in the Questions to Answer section above. \n",
    "You should also motivate any changes to the model.<br>\n",
    "Implement your model in PyStan, generate samples from the posterior, present your posterior\n",
    "results, and use your posteriors to answer the questions provided.<br>\n",
    "The basic idea of the model is that each type of product (apples, bananas, etc.) has a base price,\n",
    "with multipliers depending on store brand and geographical location.<br>\n",
    "- The base price of each product.\n",
    "    - Price is a positive real number.\n",
    "    - It is up to you to choose a good prior.\n",
    "- The multiplier for each store type (budget/mid-range/luxury).\n",
    "    - This is a scale parameter (positive real number).\n",
    "    - The prior can be centered on 1, to achieve an average multiplier of 1. This would make the base price (approximately) match the average price in mid-range stores.\n",
    "- The multiplier for the country or state.\n",
    "    - This is a scale parameter (positive real number).\n",
    "    - The prior should also be centered on 1. Expensive countries/states will have multipliers above 1 and inexpensive countries will have multipliers below 1.<br>\n",
    "\n",
    "For example,\n",
    "-  The base price of 1 liter of full cream milk might be 0.70 ¼.\n",
    "-  ALDI stores are considered inexpensive and might be only 0.9 times as expensive as the average store.\n",
    "- Stores in Germany might be 1.4 times more expensive than stores in the average country or state.\n",
    "So as a result, 1 liter of full cream milk in an ALDI store in Berlin should cost about 0.70 * 0.9 *\n",
    "1.4 = 0.88  with some random variation around that value."
   ]
  },
  {
   "cell_type": "code",
   "execution_count": 49,
   "metadata": {},
   "outputs": [],
   "source": [
    "# define the data for the stan model\n",
    "stan_data = {\n",
    "    'n': len(reshaped_data[0]),\n",
    "    'prices': reshaped_data[0],\n",
    "    # 1 for cheap, 2 for mid-range, 3 for expensive\n",
    "    'n_brands' : 3,\n",
    "    'brand' : reshaped_data[1].astype(int),\n",
    "    # by alphabet [Germany:1, Guatemala:2, Morocco: 3, South Korea: 4, UK:5, USA:6, Vietnam:7]\n",
    "    'n_countries' : 7,\n",
    "    'country' : reshaped_data[2].astype(int),\n",
    "    # product category 1(apple) through 10(chicken)\n",
    "    'n_products' : 10,\n",
    "    'product' : reshaped_data[3].astype(int),\n",
    "    # rent price\n",
    "    'rent' : reshaped_data[4]\n",
    "}"
   ]
  },
  {
   "cell_type": "code",
   "execution_count": 50,
   "metadata": {},
   "outputs": [
    {
     "name": "stderr",
     "output_type": "stream",
     "text": [
      "INFO:pystan:COMPILING THE C++ CODE FOR MODEL anon_model_5486e1e314826e5b0b27dcf40e50b0ef NOW.\n"
     ]
    }
   ],
   "source": [
    "# define stan code\n",
    "stan_code = \"\"\"\n",
    "data {\n",
    "    int<lower=1> n;\n",
    "    real<lower=0> prices[n];\n",
    "    int<lower=1> n_brands;\n",
    "    int<lower=1> n_countries;\n",
    "    int<lower=0> brand[n];\n",
    "    int<lower=0> country[n];\n",
    "    int<lower=1> n_products;\n",
    "    int<lower=0> product[n];\n",
    "}\n",
    "\n",
    "parameters {\n",
    "    real<lower = 0> average_price[n_products];\n",
    "    real<lower = 0> sigma[n_products];\n",
    "    real<lower = 0> brand_multiplier[n_brands];\n",
    "    real<lower = 0> country_multiplier[n_countries];\n",
    "}\n",
    "\n",
    "model {\n",
    "    brand_multiplier ~ lognormal(1,0.5);\n",
    "    country_multiplier ~ lognormal(1,0.5);\n",
    "    average_price ~ normal(2,1);\n",
    "    for (t in 1:n){\n",
    "       prices[t] ~ normal(average_price[product[t]]*brand_multiplier[brand[t]]*country_multiplier[country[t]], sigma[product[t]]);\n",
    "    };\n",
    "    }\n",
    "\n",
    "\"\"\"\n",
    "# define stan model\n",
    "stan_model = pystan.StanModel(model_code=stan_code)"
   ]
  },
  {
   "cell_type": "code",
   "execution_count": 51,
   "metadata": {},
   "outputs": [
    {
     "name": "stdout",
     "output_type": "stream",
     "text": [
      "Inference for Stan model: anon_model_5486e1e314826e5b0b27dcf40e50b0ef.\n",
      "4 chains, each with iter=2000; warmup=1000; thin=1; \n",
      "post-warmup draws per chain=1000, total post-warmup draws=4000.\n",
      "\n",
      "                        mean se_mean     sd     1%    50%    99%  n_eff   Rhat\n",
      "average_price[1]        1.44  9.4e-3   0.27   0.86   1.43   2.11    818   1.01\n",
      "average_price[2]         0.7  4.7e-3   0.13   0.42   0.69   1.04    800   1.01\n",
      "average_price[3]        1.29  8.4e-3   0.25   0.77   1.28   1.94    894   1.01\n",
      "average_price[4]        0.66  4.4e-3   0.12    0.4   0.66   0.99    802   1.01\n",
      "average_price[5]        0.77  6.1e-3   0.22   0.35   0.76   1.34   1259   1.01\n",
      "average_price[6]        1.51  9.6e-3   0.28   0.91    1.5   2.23    872   1.01\n",
      "average_price[7]        0.95  8.3e-3   0.29   0.39   0.93   1.73   1207    1.0\n",
      "average_price[8]        0.35  2.3e-3   0.06   0.21   0.34   0.52    811   1.01\n",
      "average_price[9]         2.7    0.01   0.72   1.12   2.67   4.51   3463    1.0\n",
      "average_price[10]       3.41    0.02   0.62   2.08   3.38   4.97    822   1.01\n",
      "brand_multiplier[1]     1.03  6.3e-3   0.21   0.64   1.01   1.64   1095   1.01\n",
      "brand_multiplier[2]      1.3  8.1e-3   0.26   0.82   1.27   2.06   1061   1.01\n",
      "brand_multiplier[3]     1.69    0.01   0.34   1.07   1.66   2.67   1087   1.01\n",
      "country_multiplier[1]   1.87  9.8e-3   0.32   1.26   1.84   2.72   1052    1.0\n",
      "country_multiplier[2]   1.82  9.7e-3   0.35   1.15   1.79   2.78   1274    1.0\n",
      "country_multiplier[3]   1.47  8.0e-3   0.27   0.95   1.44   2.22   1137    1.0\n",
      "country_multiplier[4]   3.34    0.02   0.61   2.19   3.28    5.0   1178    1.0\n",
      "country_multiplier[5]    1.9    0.01   0.33   1.28   1.88    2.8   1042    1.0\n",
      "country_multiplier[6]   2.17    0.01   0.37   1.46   2.14   3.22   1043    1.0\n",
      "country_multiplier[7]   1.85  9.8e-3   0.33    1.2   1.83   2.76   1169    1.0\n",
      "\n",
      "Samples were drawn using NUTS at Sun Nov 15 21:28:54 2020.\n",
      "For each parameter, n_eff is a crude measure of effective sample size,\n",
      "and Rhat is the potential scale reduction factor on split chains (at \n",
      "convergence, Rhat=1).\n"
     ]
    }
   ],
   "source": [
    "stan_results = stan_model.sampling(data=stan_data)\n",
    "print(stan_results.stansummary(pars=['average_price','brand_multiplier','country_multiplier'], probs=[0.01, 0.5, 0.99]))"
   ]
  },
  {
   "cell_type": "code",
   "execution_count": 52,
   "metadata": {},
   "outputs": [],
   "source": [
    "samples = stan_results.extract()"
   ]
  },
  {
   "cell_type": "code",
   "execution_count": 53,
   "metadata": {},
   "outputs": [
    {
     "name": "stdout",
     "output_type": "stream",
     "text": [
      "(10, 4000)\n",
      "(7, 4000)\n",
      "(3, 4000)\n"
     ]
    }
   ],
   "source": [
    "# we need to transpose the array to access one product at a time\n",
    "price_array = np.transpose(np.array(samples['average_price']))\n",
    "print(np.shape(price_array))\n",
    "# one country at a time\n",
    "country_array = np.transpose(np.array(samples['country_multiplier']))\n",
    "print(np.shape(country_array))\n",
    "# one store brand index at a time\n",
    "brand_array = np.transpose(np.array(samples['brand_multiplier']))\n",
    "print(np.shape(brand_array))"
   ]
  },
  {
   "cell_type": "code",
   "execution_count": 54,
   "metadata": {},
   "outputs": [
    {
     "name": "stdout",
     "output_type": "stream",
     "text": [
      "Posterior 98% confidence interval of the price for cheap : [0.64424658 1.63192625]\n",
      "Posterior 98% confidence interval of the price for mid-range : [0.8194305  2.06275646]\n",
      "Posterior 98% confidence interval of the price for expensive : [1.06641992 2.67164413]\n"
     ]
    },
    {
     "data": {
      "image/png": "[encoded data removed]",
      "text/plain": [
       "<Figure size 432x288 with 1 Axes>"
      ]
     },
     "metadata": {
      "needs_background": "light"
     },
     "output_type": "display_data"
    }
   ],
   "source": [
    "ratings = ['cheap','mid-range','expensive']\n",
    "plt.hist([x for x in brand_array], bins=50, density=True)\n",
    "plt.xlabel(\"price of goods\")\n",
    "plt.title('Sampled posterior probability density for lambda')\n",
    "plt.legend(ratings)\n",
    "for n in range(len(brand_array)):\n",
    "    print(\n",
    "        \"Posterior 98% confidence interval of the price for\",ratings[n],\":\",\n",
    "        np.percentile(brand_array[n], [1, 99]))\n",
    "plt.show()"
   ]
  },
  {
   "cell_type": "code",
   "execution_count": 55,
   "metadata": {},
   "outputs": [
    {
     "name": "stdout",
     "output_type": "stream",
     "text": [
      "Posterior 98% confidence interval of the price for apples : [0.86524888 2.11268873]\n",
      "Posterior 98% confidence interval of the price for bananas : [0.41833813 1.04006885]\n",
      "Posterior 98% confidence interval of the price for tomatoes : [0.76639081 1.93525399]\n",
      "Posterior 98% confidence interval of the price for potatoes : [0.40277157 0.98589637]\n",
      "Posterior 98% confidence interval of the price for flour : [0.34589764 1.33850786]\n",
      "Posterior 98% confidence interval of the price for rice : [0.91300574 2.22685907]\n",
      "Posterior 98% confidence interval of the price for milk : [0.39265779 1.73430221]\n",
      "Posterior 98% confidence interval of the price for butter : [0.20725665 0.51545236]\n",
      "Posterior 98% confidence interval of the price for eggs : [1.11626955 4.50697778]\n",
      "Posterior 98% confidence interval of the price for chicken : [2.07984925 4.96437452]\n"
     ]
    },
    {
     "data": {
      "image/png": "[encoded data removed]",
      "text/plain": [
       "<Figure size 432x288 with 1 Axes>"
      ]
     },
     "metadata": {
      "needs_background": "light"
     },
     "output_type": "display_data"
    }
   ],
   "source": [
    "plt.hist([x for x in price_array[0:3]],bins=50,density=True)\n",
    "plt.xlabel(\"price of product\")\n",
    "plt.title('Fruit and veggies')\n",
    "plt.legend(products)\n",
    "for n in range(10):\n",
    "    print(\n",
    "        \"Posterior 98% confidence interval of the price for\",products[n],\":\",\n",
    "        np.percentile(price_array[n], [1, 99]))\n",
    "plt.show()"
   ]
  },
  {
   "cell_type": "code",
   "execution_count": 56,
   "metadata": {},
   "outputs": [
    {
     "data": {
      "image/png": "[encoded data removed]",
      "text/plain": [
       "<Figure size 432x288 with 1 Axes>"
      ]
     },
     "metadata": {
      "needs_background": "light"
     },
     "output_type": "display_data"
    }
   ],
   "source": [
    "plt.hist([x for x in price_array[3:6]],bins=50,density=True)\n",
    "plt.xlabel(\"price of product\")\n",
    "plt.title('Starchy foods')\n",
    "plt.legend(products[3:6])\n",
    "plt.show()"
   ]
  },
  {
   "cell_type": "code",
   "execution_count": 57,
   "metadata": {},
   "outputs": [
    {
     "data": {
      "image/png": "[encoded data removed]",
      "text/plain": [
       "<Figure size 432x288 with 1 Axes>"
      ]
     },
     "metadata": {
      "needs_background": "light"
     },
     "output_type": "display_data"
    }
   ],
   "source": [
    "plt.hist([x for x in price_array[6:10]],bins=50,density=True)\n",
    "plt.xlabel(\"price of meat and dairy\")\n",
    "plt.title('Starchy foods')\n",
    "plt.legend(products[6:10])\n",
    "plt.show()"
   ]
  },
  {
   "cell_type": "code",
   "execution_count": null,
   "metadata": {},
   "outputs": [],
   "source": []
  }
 ],
 "metadata": {
  "kernelspec": {
   "display_name": "Python 3",
   "language": "python",
   "name": "python3"
  },
  "language_info": {
   "codemirror_mode": {
    "name": "ipython",
    "version": 3
   },
   "file_extension": ".py",
   "mimetype": "text/x-python",
   "name": "python",
   "nbconvert_exporter": "python",
   "pygments_lexer": "ipython3",
   "version": "3.7.7"
  }
 },
 "nbformat": 4,
 "nbformat_minor": 4
}
