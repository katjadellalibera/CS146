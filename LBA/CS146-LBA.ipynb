{
 "cells": [
  {
   "cell_type": "markdown",
   "metadata": {},
   "source": [
    "# LBA: Grocery store prices\n",
    "In this assignment, we model the cost of groceries in different parts of the world. To what extent do\n",
    "grocery prices vary by country and store brand? Are grocery prices and the geographical\n",
    "distribution of different grocery stores correlated with other cost-of-living measures- for example,\n",
    "rent and real estate prices?"
   ]
  },
  {
   "cell_type": "markdown",
   "metadata": {},
   "source": [
    "## Task 1: Prices\n",
    "What is the basic average price for each product? You need to think carefully about how to\n",
    "anchor the basic price for each product since this will depend on the currency used as well\n",
    "as the distribution of prices.<br><br>\n",
    "\n",
    "- Anchor in Euros\n",
    "- Anchor at units that make sense for each category but is base 10 metric, e.g. milk in l, apples and potatoes in kg, meat and butter in 0.1kg. \n",
    "\n",
    "I tried several python packages for currency conversion but none had all of the currencies I wanted and some were unclear on which day's conversion rate they were using so I pivoted to using Mathematica."
   ]
  },
  {
   "cell_type": "code",
   "execution_count": 7,
   "metadata": {},
   "outputs": [
    {
     "data": {
      "text/plain": [
       "1.2296597100794315"
      ]
     },
     "execution_count": 7,
     "metadata": {},
     "output_type": "execute_result"
    }
   ],
   "source": [
    "# testing my currencyconversion setup\n",
    "from wolframclient.evaluation import WolframLanguageSession\n",
    "from wolframclient.language import wl, wlexpr\n",
    "session = WolframLanguageSession()\n",
    "session.evaluate(wlexpr('CurrencyConvert[Quantity[13.25, \"MAD\"], \"EUR\"][[1]]'))"
   ]
  },
  {
   "cell_type": "code",
   "execution_count": 9,
   "metadata": {},
   "outputs": [],
   "source": [
    "import numpy as np\n",
    "from string import Template"
   ]
  },
  {
   "cell_type": "markdown",
   "metadata": {},
   "source": [
    "### Processing done before import\n",
    "- changed country column to be standardized:\n",
    "    - USA, UK, Germany (got rid of cities and alternative names for the countries)\n",
    "    - Also change supermarket names to make sure the same market would have the same name there (e.g. 4 people went to the 4th street Trader Joe's)\n",
    "- turned all rent prices into one number \n",
    "    - where necessary, looked up the price myself to be consistent in source within the city\n",
    "    - San Francisco: https://www.zumper.com/blog/map-san-francisco-neighborhood-rent-prices-fall-2018/\n",
    "    - Berlin: https://www.immobilienscout24.de/content/dam/is24/ibw/dokumente/mietmap_berlin_2020.jpg (this is the 2020 version of the 2016 map from the instructions)\n",
    "- verified outliers with the authors, for example the 73GBP for bananas should be 0.73GBP"
   ]
  },
  {
   "cell_type": "code",
   "execution_count": 10,
   "metadata": {},
   "outputs": [],
   "source": [
    "# I downloaded the data as tsv to avoid commas in people's responses\n",
    "data = np.loadtxt(\"LBAData.tsv\", delimiter=\"\\t\",dtype=object)"
   ]
  },
  {
   "cell_type": "code",
   "execution_count": 11,
   "metadata": {},
   "outputs": [
    {
     "name": "stdout",
     "output_type": "stream",
     "text": [
      "(65, 68)\n",
      "['10/23/2020 18:40:00' 'katja.dellalibera@minerva.kgi.edu'\n",
      " 'Katja Della Libera' 'Germany' 'EUR'\n",
      " 'Alnatura Super Natur Markt, Münzgasse 4A, 78462 Konstanz'\n",
      " 'Luxury (expensive)' '1000' '1' '3.99' '1' '3.99' '1' '3.99' '1' '2.29'\n",
      " '' '' '' '' '0.1' '0.79' '1' '5.99' '0.1' '0.99' '1' '2.49' '2' '4.99'\n",
      " '2' '5.99' '1' '1.49' '1' '0.95' '1' '1.49' '1' '3.99' '1' '5.99' '1'\n",
      " '7.69' '1' '1.49' '1' '1.29' '1' '1.15' '0.25' '2.99' '0.25' '2.49'\n",
      " '0.25' '2.59' '10' '4.29' '10' '1.99' '1' '0.45' '1' '32.9' '' '' '' '']\n"
     ]
    }
   ],
   "source": [
    "#dimensions\n",
    "print(np.shape(data))\n",
    "#example datapoint\n",
    "print(data[4])"
   ]
  },
  {
   "cell_type": "code",
   "execution_count": 12,
   "metadata": {},
   "outputs": [
    {
     "name": "stdout",
     "output_type": "stream",
     "text": [
      "{'country': 3, 'currency': 4, 'category': 6, 'rent': 7, 'apples0': 8, 'apples1': 10, 'apples2': 12, 'bananas0': 14, 'bananas1': 16, 'bananas2': 18, 'tomatoes0': 20, 'tomatoes1': 22, 'tomatoes2': 24, 'potatoes0': 26, 'potatoes1': 28, 'potatoes2': 30, 'flour0': 32, 'flour1': 34, 'flour2': 36, 'rice0': 38, 'rice1': 40, 'rice2': 42, 'milk0': 44, 'milk1': 46, 'milk2': 48, 'butter0': 50, 'butter1': 52, 'butter2': 54, 'eggs0': 56, 'eggs1': 58, 'eggs2': 60, 'chicken0': 62, 'chicken1': 64, 'chicken2': 66}\n"
     ]
    }
   ],
   "source": [
    "# make a dictionary to encode all the indexes\n",
    "products = ['apples','bananas','tomatoes','potatoes','flour','rice','milk','butter','eggs','chicken']\n",
    "indexes = {'country': 3,\n",
    "          'currency': 4,\n",
    "          'category': 6,\n",
    "          'rent': 7}\n",
    "\n",
    "for no, prod in enumerate(products):\n",
    "    for i in range (3):\n",
    "        indexes[prod + str(i)] = 8+6*no+i*2\n",
    "print(indexes)"
   ]
  },
  {
   "cell_type": "code",
   "execution_count": 31,
   "metadata": {},
   "outputs": [
    {
     "data": {
      "text/plain": [
       "array(['Product 1 quantity (kg)', '1', '1', '1', '1', '1', '1', '1', '1',\n",
       "       '0.9', '0.118', '0.118', '0.45', '1', '1', '0.118', '1', '1',\n",
       "       '0.4535924', '0.453592', '0.54', '1', '1', '1', '1', '1', '1', '1',\n",
       "       '1', '1', '1', '1', '1', '0.6', '0.6', '0.78', '1', '1', '0.91',\n",
       "       '1', '0.118', '1', '1', '1', '1', '0.12', '0.45', '0.45', '0.2',\n",
       "       '0.5', '1', '3.5', '1', '0.4536', '1.36078', '1.3608', '0.453592',\n",
       "       '1.36078', '0.453592', '1', '1', '1', '1', '1', '1'], dtype=object)"
      ]
     },
     "execution_count": 31,
     "metadata": {},
     "output_type": "execute_result"
    }
   ],
   "source": [
    "# show all the quantities for one product\n",
    "data[:,indexes['bananas0']]"
   ]
  },
  {
   "cell_type": "code",
   "execution_count": 58,
   "metadata": {},
   "outputs": [],
   "source": [
    "# write a function that normalizes by target unit and converts the currency\n",
    "def get_normalized_price(i, target_unit):\n",
    "    units = np.array([1 if x==\"\" else x for x in data[1:,i]], dtype=np.float)\n",
    "    price = np.array([0 if x==\"\" else x for x in data[1:,i+1]], dtype=np.float)\n",
    "    normalized_price = price/units*target_unit\n",
    "    normalized_price_EUR = []\n",
    "    for no, x in enumerate(normalized_price):\n",
    "        original_currency = str(data[no+1,indexes['currency']])\n",
    "        t = Template('CurrencyConvert[Quantity[${price}, \"${origin}\"], \"EUR\"][[1]]')\n",
    "        new_price = session.evaluate(wlexpr(t.substitute(price=x,origin = original_currency)))\n",
    "        normalized_price_EUR.append(new_price)\n",
    "    return normalized_price_EUR"
   ]
  },
  {
   "cell_type": "code",
   "execution_count": 64,
   "metadata": {},
   "outputs": [
    {
     "ename": "KeyboardInterrupt",
     "evalue": "",
     "output_type": "error",
     "traceback": [
      "\u001b[0;31m---------------------------------------------------------------------------\u001b[0m",
      "\u001b[0;31mKeyboardInterrupt\u001b[0m                         Traceback (most recent call last)",
      "\u001b[0;32m<ipython-input-64-54402e388389>\u001b[0m in \u001b[0;36m<module>\u001b[0;34m\u001b[0m\n\u001b[0;32m----> 1\u001b[0;31m apples = np.transpose([get_normalized_price(indexes['apples0'],1),\n\u001b[0m\u001b[1;32m      2\u001b[0m            \u001b[0mget_normalized_price\u001b[0m\u001b[0;34m(\u001b[0m\u001b[0mindexes\u001b[0m\u001b[0;34m[\u001b[0m\u001b[0;34m'apples1'\u001b[0m\u001b[0;34m]\u001b[0m\u001b[0;34m,\u001b[0m\u001b[0;36m1\u001b[0m\u001b[0;34m)\u001b[0m\u001b[0;34m,\u001b[0m\u001b[0;34m\u001b[0m\u001b[0;34m\u001b[0m\u001b[0m\n\u001b[1;32m      3\u001b[0m            get_normalized_price(indexes['apples2'],1)])\n\u001b[1;32m      4\u001b[0m bananas = np.transpose([get_normalized_price(indexes['bananas0'],1),\n\u001b[1;32m      5\u001b[0m            \u001b[0mget_normalized_price\u001b[0m\u001b[0;34m(\u001b[0m\u001b[0mindexes\u001b[0m\u001b[0;34m[\u001b[0m\u001b[0;34m'bananas1'\u001b[0m\u001b[0;34m]\u001b[0m\u001b[0;34m,\u001b[0m\u001b[0;36m1\u001b[0m\u001b[0;34m)\u001b[0m\u001b[0;34m,\u001b[0m\u001b[0;34m\u001b[0m\u001b[0;34m\u001b[0m\u001b[0m\n",
      "\u001b[0;32m<ipython-input-58-39a25a231a87>\u001b[0m in \u001b[0;36mget_normalized_price\u001b[0;34m(i, target_unit)\u001b[0m\n\u001b[1;32m      7\u001b[0m         \u001b[0moriginal_currency\u001b[0m \u001b[0;34m=\u001b[0m \u001b[0mstr\u001b[0m\u001b[0;34m(\u001b[0m\u001b[0mdata\u001b[0m\u001b[0;34m[\u001b[0m\u001b[0mno\u001b[0m\u001b[0;34m+\u001b[0m\u001b[0;36m1\u001b[0m\u001b[0;34m,\u001b[0m\u001b[0mindexes\u001b[0m\u001b[0;34m[\u001b[0m\u001b[0;34m'currency'\u001b[0m\u001b[0;34m]\u001b[0m\u001b[0;34m]\u001b[0m\u001b[0;34m)\u001b[0m\u001b[0;34m\u001b[0m\u001b[0;34m\u001b[0m\u001b[0m\n\u001b[1;32m      8\u001b[0m         \u001b[0mt\u001b[0m \u001b[0;34m=\u001b[0m \u001b[0mTemplate\u001b[0m\u001b[0;34m(\u001b[0m\u001b[0;34m'CurrencyConvert[Quantity[${price}, \"${origin}\"], \"EUR\"][[1]]'\u001b[0m\u001b[0;34m)\u001b[0m\u001b[0;34m\u001b[0m\u001b[0;34m\u001b[0m\u001b[0m\n\u001b[0;32m----> 9\u001b[0;31m         \u001b[0mnew_price\u001b[0m \u001b[0;34m=\u001b[0m \u001b[0msession\u001b[0m\u001b[0;34m.\u001b[0m\u001b[0mevaluate\u001b[0m\u001b[0;34m(\u001b[0m\u001b[0mwlexpr\u001b[0m\u001b[0;34m(\u001b[0m\u001b[0mt\u001b[0m\u001b[0;34m.\u001b[0m\u001b[0msubstitute\u001b[0m\u001b[0;34m(\u001b[0m\u001b[0mprice\u001b[0m\u001b[0;34m=\u001b[0m\u001b[0mx\u001b[0m\u001b[0;34m,\u001b[0m\u001b[0morigin\u001b[0m \u001b[0;34m=\u001b[0m \u001b[0moriginal_currency\u001b[0m\u001b[0;34m)\u001b[0m\u001b[0;34m)\u001b[0m\u001b[0;34m)\u001b[0m\u001b[0;34m\u001b[0m\u001b[0;34m\u001b[0m\u001b[0m\n\u001b[0m\u001b[1;32m     10\u001b[0m         \u001b[0mnormalized_price_EUR\u001b[0m\u001b[0;34m.\u001b[0m\u001b[0mappend\u001b[0m\u001b[0;34m(\u001b[0m\u001b[0mnew_price\u001b[0m\u001b[0;34m)\u001b[0m\u001b[0;34m\u001b[0m\u001b[0;34m\u001b[0m\u001b[0m\n\u001b[1;32m     11\u001b[0m     \u001b[0;32mreturn\u001b[0m \u001b[0mnormalized_price_EUR\u001b[0m\u001b[0;34m\u001b[0m\u001b[0;34m\u001b[0m\u001b[0m\n",
      "\u001b[0;32m/usr/local/lib/python3.7/site-packages/wolframclient/evaluation/kernel/localsession.py\u001b[0m in \u001b[0;36mevaluate\u001b[0;34m(self, expr, **kwargs)\u001b[0m\n\u001b[1;32m    257\u001b[0m \u001b[0;34m\u001b[0m\u001b[0m\n\u001b[1;32m    258\u001b[0m     \u001b[0;32mdef\u001b[0m \u001b[0mevaluate\u001b[0m\u001b[0;34m(\u001b[0m\u001b[0mself\u001b[0m\u001b[0;34m,\u001b[0m \u001b[0mexpr\u001b[0m\u001b[0;34m,\u001b[0m \u001b[0;34m**\u001b[0m\u001b[0mkwargs\u001b[0m\u001b[0;34m)\u001b[0m\u001b[0;34m:\u001b[0m\u001b[0;34m\u001b[0m\u001b[0;34m\u001b[0m\u001b[0m\n\u001b[0;32m--> 259\u001b[0;31m         \u001b[0mresult\u001b[0m \u001b[0;34m=\u001b[0m \u001b[0mself\u001b[0m\u001b[0;34m.\u001b[0m\u001b[0mevaluate_wrap\u001b[0m\u001b[0;34m(\u001b[0m\u001b[0mexpr\u001b[0m\u001b[0;34m,\u001b[0m \u001b[0;34m**\u001b[0m\u001b[0mkwargs\u001b[0m\u001b[0;34m)\u001b[0m\u001b[0;34m\u001b[0m\u001b[0;34m\u001b[0m\u001b[0m\n\u001b[0m\u001b[1;32m    260\u001b[0m         \u001b[0mself\u001b[0m\u001b[0;34m.\u001b[0m\u001b[0mlog_message_from_result\u001b[0m\u001b[0;34m(\u001b[0m\u001b[0mresult\u001b[0m\u001b[0;34m)\u001b[0m\u001b[0;34m\u001b[0m\u001b[0;34m\u001b[0m\u001b[0m\n\u001b[1;32m    261\u001b[0m         \u001b[0;32mreturn\u001b[0m \u001b[0mresult\u001b[0m\u001b[0;34m.\u001b[0m\u001b[0mget\u001b[0m\u001b[0;34m(\u001b[0m\u001b[0;34m)\u001b[0m\u001b[0;34m\u001b[0m\u001b[0;34m\u001b[0m\u001b[0m\n",
      "\u001b[0;32m/usr/local/lib/python3.7/site-packages/wolframclient/evaluation/kernel/localsession.py\u001b[0m in \u001b[0;36mevaluate_wrap\u001b[0;34m(self, expr, **kwargs)\u001b[0m\n\u001b[1;32m    254\u001b[0m \u001b[0;34m\u001b[0m\u001b[0m\n\u001b[1;32m    255\u001b[0m     \u001b[0;32mdef\u001b[0m \u001b[0mevaluate_wrap\u001b[0m\u001b[0;34m(\u001b[0m\u001b[0mself\u001b[0m\u001b[0;34m,\u001b[0m \u001b[0mexpr\u001b[0m\u001b[0;34m,\u001b[0m \u001b[0;34m**\u001b[0m\u001b[0mkwargs\u001b[0m\u001b[0;34m)\u001b[0m\u001b[0;34m:\u001b[0m\u001b[0;34m\u001b[0m\u001b[0;34m\u001b[0m\u001b[0m\n\u001b[0;32m--> 256\u001b[0;31m         \u001b[0;32mreturn\u001b[0m \u001b[0mself\u001b[0m\u001b[0;34m.\u001b[0m\u001b[0mevaluate_wrap_future\u001b[0m\u001b[0;34m(\u001b[0m\u001b[0mexpr\u001b[0m\u001b[0;34m,\u001b[0m \u001b[0;34m**\u001b[0m\u001b[0mkwargs\u001b[0m\u001b[0;34m)\u001b[0m\u001b[0;34m.\u001b[0m\u001b[0mresult\u001b[0m\u001b[0;34m(\u001b[0m\u001b[0;34m)\u001b[0m\u001b[0;34m\u001b[0m\u001b[0;34m\u001b[0m\u001b[0m\n\u001b[0m\u001b[1;32m    257\u001b[0m \u001b[0;34m\u001b[0m\u001b[0m\n\u001b[1;32m    258\u001b[0m     \u001b[0;32mdef\u001b[0m \u001b[0mevaluate\u001b[0m\u001b[0;34m(\u001b[0m\u001b[0mself\u001b[0m\u001b[0;34m,\u001b[0m \u001b[0mexpr\u001b[0m\u001b[0;34m,\u001b[0m \u001b[0;34m**\u001b[0m\u001b[0mkwargs\u001b[0m\u001b[0;34m)\u001b[0m\u001b[0;34m:\u001b[0m\u001b[0;34m\u001b[0m\u001b[0;34m\u001b[0m\u001b[0m\n",
      "\u001b[0;32m/usr/local/Cellar/python/3.7.7/Frameworks/Python.framework/Versions/3.7/lib/python3.7/concurrent/futures/_base.py\u001b[0m in \u001b[0;36mresult\u001b[0;34m(self, timeout)\u001b[0m\n\u001b[1;32m    428\u001b[0m                 \u001b[0;32mreturn\u001b[0m \u001b[0mself\u001b[0m\u001b[0;34m.\u001b[0m\u001b[0m__get_result\u001b[0m\u001b[0;34m(\u001b[0m\u001b[0;34m)\u001b[0m\u001b[0;34m\u001b[0m\u001b[0;34m\u001b[0m\u001b[0m\n\u001b[1;32m    429\u001b[0m \u001b[0;34m\u001b[0m\u001b[0m\n\u001b[0;32m--> 430\u001b[0;31m             \u001b[0mself\u001b[0m\u001b[0;34m.\u001b[0m\u001b[0m_condition\u001b[0m\u001b[0;34m.\u001b[0m\u001b[0mwait\u001b[0m\u001b[0;34m(\u001b[0m\u001b[0mtimeout\u001b[0m\u001b[0;34m)\u001b[0m\u001b[0;34m\u001b[0m\u001b[0;34m\u001b[0m\u001b[0m\n\u001b[0m\u001b[1;32m    431\u001b[0m \u001b[0;34m\u001b[0m\u001b[0m\n\u001b[1;32m    432\u001b[0m             \u001b[0;32mif\u001b[0m \u001b[0mself\u001b[0m\u001b[0;34m.\u001b[0m\u001b[0m_state\u001b[0m \u001b[0;32min\u001b[0m \u001b[0;34m[\u001b[0m\u001b[0mCANCELLED\u001b[0m\u001b[0;34m,\u001b[0m \u001b[0mCANCELLED_AND_NOTIFIED\u001b[0m\u001b[0;34m]\u001b[0m\u001b[0;34m:\u001b[0m\u001b[0;34m\u001b[0m\u001b[0;34m\u001b[0m\u001b[0m\n",
      "\u001b[0;32m/usr/local/Cellar/python/3.7.7/Frameworks/Python.framework/Versions/3.7/lib/python3.7/threading.py\u001b[0m in \u001b[0;36mwait\u001b[0;34m(self, timeout)\u001b[0m\n\u001b[1;32m    294\u001b[0m         \u001b[0;32mtry\u001b[0m\u001b[0;34m:\u001b[0m    \u001b[0;31m# restore state no matter what (e.g., KeyboardInterrupt)\u001b[0m\u001b[0;34m\u001b[0m\u001b[0;34m\u001b[0m\u001b[0m\n\u001b[1;32m    295\u001b[0m             \u001b[0;32mif\u001b[0m \u001b[0mtimeout\u001b[0m \u001b[0;32mis\u001b[0m \u001b[0;32mNone\u001b[0m\u001b[0;34m:\u001b[0m\u001b[0;34m\u001b[0m\u001b[0;34m\u001b[0m\u001b[0m\n\u001b[0;32m--> 296\u001b[0;31m                 \u001b[0mwaiter\u001b[0m\u001b[0;34m.\u001b[0m\u001b[0macquire\u001b[0m\u001b[0;34m(\u001b[0m\u001b[0;34m)\u001b[0m\u001b[0;34m\u001b[0m\u001b[0;34m\u001b[0m\u001b[0m\n\u001b[0m\u001b[1;32m    297\u001b[0m                 \u001b[0mgotit\u001b[0m \u001b[0;34m=\u001b[0m \u001b[0;32mTrue\u001b[0m\u001b[0;34m\u001b[0m\u001b[0;34m\u001b[0m\u001b[0m\n\u001b[1;32m    298\u001b[0m             \u001b[0;32melse\u001b[0m\u001b[0;34m:\u001b[0m\u001b[0;34m\u001b[0m\u001b[0;34m\u001b[0m\u001b[0m\n",
      "\u001b[0;31mKeyboardInterrupt\u001b[0m: "
     ]
    }
   ],
   "source": [
    "apples = np.transpose([get_normalized_price(indexes['apples0'],1),\n",
    "           get_normalized_price(indexes['apples1'],1),\n",
    "           get_normalized_price(indexes['apples2'],1)])\n",
    "bananas = np.transpose([get_normalized_price(indexes['bananas0'],1),\n",
    "           get_normalized_price(indexes['bananas1'],1),\n",
    "           get_normalized_price(indexes['bananas2'],1)])\n",
    "tomatoes = np.transpose([get_normalized_price(indexes['tomatoes0'],1),\n",
    "           get_normalized_price(indexes['tomatoes1'],1),\n",
    "           get_normalized_price(indexes['tomatoes2'],1)])\n",
    "potatoes = np.transpose([get_normalized_price(indexes['potatoes0'],1),\n",
    "           get_normalized_price(indexes['potatoes1'],1),\n",
    "           get_normalized_price(indexes['potatoes2'],1)])\n",
    "flour = np.transpose([get_normalized_price(indexes['flour0'],1),\n",
    "           get_normalized_price(indexes['flour1'],1),\n",
    "           get_normalized_price(indexes['flour2'],1)])\n",
    "rice = np.transpose([get_normalized_price(indexes['rice0'],1),\n",
    "           get_normalized_price(indexes['rice1'],1),\n",
    "           get_normalized_price(indexes['rice2'],1)])\n",
    "milk = np.transpose([get_normalized_price(indexes['milk0'],1),\n",
    "           get_normalized_price(indexes['milk1'],1),\n",
    "           get_normalized_price(indexes['milk2'],1)])\n",
    "# measure butter in half-pounds (250g)\n",
    "butter = np.transpose([get_normalized_price(indexes['butter0'],0.25),\n",
    "           get_normalized_price(indexes['butter1'],0.25),\n",
    "           get_normalized_price(indexes['butter2'],0.25)])\n",
    "# get 10 eggs, the common unit in Germany (so EUR)\n",
    "eggs = np.transpose([get_normalized_price(indexes['eggs0'],10),\n",
    "           get_normalized_price(indexes['eggs1'],10),\n",
    "           get_normalized_price(indexes['eggs2'],10)])\n",
    "# get 0.5kg of chicken\n",
    "chicken = np.transpose([get_normalized_price(indexes['chicken0'],0.5),\n",
    "           get_normalized_price(indexes['chicken1'],0.5),\n",
    "           get_normalized_price(indexes['chicken2'],0.5)])"
   ]
  },
  {
   "cell_type": "code",
   "execution_count": null,
   "metadata": {},
   "outputs": [],
   "source": [
    "bananas[9]"
   ]
  },
  {
   "cell_type": "code",
   "execution_count": null,
   "metadata": {},
   "outputs": [],
   "source": [
    "# use a masked array since some values will be 0 (the missing ones)\n",
    "X = np.ma.masked_equal(X,0)"
   ]
  },
  {
   "cell_type": "markdown",
   "metadata": {},
   "source": [
    "## Task 2: Factors influencing prices\n",
    "How much does each of the following factors modify the basic price of the product (up or\n",
    "down)?\n",
    "- The geographical location (country) of the grocery store.\n",
    "- Brand of the grocery store. Since we are getting data from multiple countries, you will need to specify whether the store brand is considered budget (cheap), mid-range, or luxury (expensive). This should be based on what you think the general public perception of the store brand is.\n",
    "- Does price variation by geographical location correlate with variation in rental prices, or\n",
    "not?\n",
    "\n",
    "Explain in your report how strong each of these effects is. Which has the greatest influence\n",
    "on price variation between shops?\n",
    "\n",
    "Notes:\n",
    "- Two levels of categorical variables\n",
    "    - country\n",
    "    - grocery store rating\n",
    "- one numeric variable: rent price\n",
    "- Determine significance and size of the variation between categories"
   ]
  },
  {
   "cell_type": "code",
   "execution_count": null,
   "metadata": {},
   "outputs": [],
   "source": []
  }
 ],
 "metadata": {
  "kernelspec": {
   "display_name": "Python 3",
   "language": "python",
   "name": "python3"
  },
  "language_info": {
   "codemirror_mode": {
    "name": "ipython",
    "version": 3
   },
   "file_extension": ".py",
   "mimetype": "text/x-python",
   "name": "python",
   "nbconvert_exporter": "python",
   "pygments_lexer": "ipython3",
   "version": "3.7.7"
  }
 },
 "nbformat": 4,
 "nbformat_minor": 4
}
