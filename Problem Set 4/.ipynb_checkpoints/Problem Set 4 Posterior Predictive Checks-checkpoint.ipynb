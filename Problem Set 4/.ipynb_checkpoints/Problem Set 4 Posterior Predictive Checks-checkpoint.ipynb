{
 "cells": [
  {
   "cell_type": "markdown",
   "metadata": {},
   "source": [
    "# Problem Set 4: Posterior Predictive Checks and other exercises.\n",
    "\n",
    "**<div style=\"text-align: center\">\"All models are wrong, but some are useful\"</div>**<br>\n",
    " <div style=\"text-align: right\"> George E.P.Box </div>\n",
    "\n",
    "## Question 1: Posterior predictive tests medical trial\n",
    "- Choose test statistic that shows the non-hierarchical model does NOT explain the control group data well.\n",
    "- generate posterior samples from model\n",
    "- compare posterior of model and data set for the statistic\n",
    "<br>\n",
    "\n",
    "#### To submit:\n",
    "- Test statistic function\n",
    "- code for generating samples from the posterior\n",
    "- code for computing the test statistic\n",
    "- histogram analogous to Gelman 6.4 \n",
    "- p-value"
   ]
  },
  {
   "cell_type": "markdown",
   "metadata": {},
   "source": [
    "### Non-hierarchical Model Summary\n",
    "##### Assumptions:\n",
    "- all studies have the same probability of success $\\theta_t$ for treatment, $\\theta_c$ for control.\n",
    "- binomial distribution in each study\n",
    "- uniform priors over $\\theta_t$ and $\\theta_c$\n",
    "\n",
    "##### Model:\n",
    "- Likelihood $\\prod_{i=1}^6{Binomial(s_i|\\theta,n_i)}$ \n",
    "- Prior: $Beta(\\theta|1,1)$ for $\\theta_t$ and $\\theta_c$\n",
    "- posterior for treatment group: $Beta(\\theta_t|108,35)$\n",
    "- posterior for control group: $Beta(\\theta_c|58,65)$"
   ]
  },
  {
   "cell_type": "code",
   "execution_count": 32,
   "metadata": {},
   "outputs": [],
   "source": [
    "import numpy as np\n",
    "import scipy.stats as sts\n",
    "from scipy.special import betaln\n",
    "import matplotlib.pyplot as plt"
   ]
  },
  {
   "cell_type": "code",
   "execution_count": 11,
   "metadata": {},
   "outputs": [],
   "source": [
    "# The control group data set from the original pre-class work\n",
    "control_group_size = [15,18,10,39,29,10]\n",
    "control_group_successes = [9,11,4,21,12,0]"
   ]
  },
  {
   "cell_type": "code",
   "execution_count": 29,
   "metadata": {},
   "outputs": [],
   "source": [
    "# a function for generating fake data from the posterior\n",
    "def nonhierarchical_rvs(n):\n",
    "    data = []\n",
    "    # generate n fake data sets\n",
    "    for i in range(n): \n",
    "        #sample a probability theta_c from the posterior\n",
    "        current_p = sts.beta.rvs(58,65, size = 1)\n",
    "        sample = []\n",
    "        # generat groups of the same size as the original control groups\n",
    "        for group_size in control_group_size:\n",
    "            sample.append(sts.binom.rvs(group_size,current_p))\n",
    "        data.append(sample)\n",
    "    return data"
   ]
  },
  {
   "cell_type": "code",
   "execution_count": 30,
   "metadata": {},
   "outputs": [
    {
     "name": "stdout",
     "output_type": "stream",
     "text": [
      "[[5, 11, 5, 15, 13, 5], [5, 8, 4, 25, 12, 5], [8, 11, 4, 18, 15, 7], [6, 6, 6, 17, 14, 5], [9, 10, 6, 14, 11, 4], [9, 10, 4, 19, 9, 6], [5, 9, 3, 16, 14, 3], [8, 9, 3, 18, 14, 4], [5, 8, 5, 16, 13, 3], [6, 7, 3, 15, 13, 5]]\n"
     ]
    }
   ],
   "source": [
    "# generate 1000 samples for the \n",
    "posterior_data = nonhierarchical_rvs(1000)\n",
    "print(posterior_data[:10])"
   ]
  },
  {
   "cell_type": "code",
   "execution_count": 35,
   "metadata": {},
   "outputs": [],
   "source": [
    "def test_statistic(data):\n",
    "    return np.range(data)"
   ]
  },
  {
   "cell_type": "code",
   "execution_count": 36,
   "metadata": {},
   "outputs": [
    {
     "ename": "AttributeError",
     "evalue": "module 'numpy' has no attribute 'range'",
     "output_type": "error",
     "traceback": [
      "\u001b[0;31m---------------------------------------------------------------------------\u001b[0m",
      "\u001b[0;31mAttributeError\u001b[0m                            Traceback (most recent call last)",
      "\u001b[0;32m<ipython-input-36-8f61f5314dc4>\u001b[0m in \u001b[0;36m<module>\u001b[0;34m\u001b[0m\n\u001b[1;32m      1\u001b[0m \u001b[0;31m# calculate the test statistic for the posterior samples\u001b[0m\u001b[0;34m\u001b[0m\u001b[0;34m\u001b[0m\u001b[0;34m\u001b[0m\u001b[0m\n\u001b[1;32m      2\u001b[0m \u001b[0;31m# and the control group data\u001b[0m\u001b[0;34m\u001b[0m\u001b[0;34m\u001b[0m\u001b[0;34m\u001b[0m\u001b[0m\n\u001b[0;32m----> 3\u001b[0;31m \u001b[0mtest_statistic_posterior\u001b[0m \u001b[0;34m=\u001b[0m \u001b[0;34m[\u001b[0m\u001b[0mtest_statistic\u001b[0m\u001b[0;34m(\u001b[0m\u001b[0mx\u001b[0m\u001b[0;34m)\u001b[0m \u001b[0;32mfor\u001b[0m \u001b[0mx\u001b[0m \u001b[0;32min\u001b[0m \u001b[0mposterior_data\u001b[0m\u001b[0;34m]\u001b[0m\u001b[0;34m\u001b[0m\u001b[0;34m\u001b[0m\u001b[0m\n\u001b[0m\u001b[1;32m      4\u001b[0m \u001b[0mtest_statistic_control\u001b[0m \u001b[0;34m=\u001b[0m \u001b[0mtest_statistic\u001b[0m\u001b[0;34m(\u001b[0m\u001b[0mcontrol_group_successes\u001b[0m\u001b[0;34m)\u001b[0m\u001b[0;34m\u001b[0m\u001b[0;34m\u001b[0m\u001b[0m\n\u001b[1;32m      5\u001b[0m \u001b[0;34m\u001b[0m\u001b[0m\n",
      "\u001b[0;32m<ipython-input-36-8f61f5314dc4>\u001b[0m in \u001b[0;36m<listcomp>\u001b[0;34m(.0)\u001b[0m\n\u001b[1;32m      1\u001b[0m \u001b[0;31m# calculate the test statistic for the posterior samples\u001b[0m\u001b[0;34m\u001b[0m\u001b[0;34m\u001b[0m\u001b[0;34m\u001b[0m\u001b[0m\n\u001b[1;32m      2\u001b[0m \u001b[0;31m# and the control group data\u001b[0m\u001b[0;34m\u001b[0m\u001b[0;34m\u001b[0m\u001b[0;34m\u001b[0m\u001b[0m\n\u001b[0;32m----> 3\u001b[0;31m \u001b[0mtest_statistic_posterior\u001b[0m \u001b[0;34m=\u001b[0m \u001b[0;34m[\u001b[0m\u001b[0mtest_statistic\u001b[0m\u001b[0;34m(\u001b[0m\u001b[0mx\u001b[0m\u001b[0;34m)\u001b[0m \u001b[0;32mfor\u001b[0m \u001b[0mx\u001b[0m \u001b[0;32min\u001b[0m \u001b[0mposterior_data\u001b[0m\u001b[0;34m]\u001b[0m\u001b[0;34m\u001b[0m\u001b[0;34m\u001b[0m\u001b[0m\n\u001b[0m\u001b[1;32m      4\u001b[0m \u001b[0mtest_statistic_control\u001b[0m \u001b[0;34m=\u001b[0m \u001b[0mtest_statistic\u001b[0m\u001b[0;34m(\u001b[0m\u001b[0mcontrol_group_successes\u001b[0m\u001b[0;34m)\u001b[0m\u001b[0;34m\u001b[0m\u001b[0;34m\u001b[0m\u001b[0m\n\u001b[1;32m      5\u001b[0m \u001b[0;34m\u001b[0m\u001b[0m\n",
      "\u001b[0;32m<ipython-input-35-6db4e308efb7>\u001b[0m in \u001b[0;36mtest_statistic\u001b[0;34m(data)\u001b[0m\n\u001b[1;32m      1\u001b[0m \u001b[0;32mdef\u001b[0m \u001b[0mtest_statistic\u001b[0m\u001b[0;34m(\u001b[0m\u001b[0mdata\u001b[0m\u001b[0;34m)\u001b[0m\u001b[0;34m:\u001b[0m\u001b[0;34m\u001b[0m\u001b[0;34m\u001b[0m\u001b[0m\n\u001b[0;32m----> 2\u001b[0;31m     \u001b[0;32mreturn\u001b[0m \u001b[0mnp\u001b[0m\u001b[0;34m.\u001b[0m\u001b[0mrange\u001b[0m\u001b[0;34m(\u001b[0m\u001b[0mdata\u001b[0m\u001b[0;34m)\u001b[0m\u001b[0;34m\u001b[0m\u001b[0;34m\u001b[0m\u001b[0m\n\u001b[0m",
      "\u001b[0;32m/usr/local/lib/python3.7/site-packages/numpy/__init__.py\u001b[0m in \u001b[0;36m__getattr__\u001b[0;34m(attr)\u001b[0m\n\u001b[1;32m    213\u001b[0m             \u001b[0;32melse\u001b[0m\u001b[0;34m:\u001b[0m\u001b[0;34m\u001b[0m\u001b[0;34m\u001b[0m\u001b[0m\n\u001b[1;32m    214\u001b[0m                 raise AttributeError(\"module {!r} has no attribute \"\n\u001b[0;32m--> 215\u001b[0;31m                                      \"{!r}\".format(__name__, attr))\n\u001b[0m\u001b[1;32m    216\u001b[0m \u001b[0;34m\u001b[0m\u001b[0m\n\u001b[1;32m    217\u001b[0m         \u001b[0;32mdef\u001b[0m \u001b[0m__dir__\u001b[0m\u001b[0;34m(\u001b[0m\u001b[0;34m)\u001b[0m\u001b[0;34m:\u001b[0m\u001b[0;34m\u001b[0m\u001b[0;34m\u001b[0m\u001b[0m\n",
      "\u001b[0;31mAttributeError\u001b[0m: module 'numpy' has no attribute 'range'"
     ]
    }
   ],
   "source": [
    "# calculate the test statistic for the posterior samples\n",
    "# and the control group data\n",
    "test_statistic_posterior = [test_statistic(x) for x in posterior_data]\n",
    "test_statistic_control = test_statistic(control_group_successes)\n",
    "\n",
    "plt.hist(test_statistic_posterior)\n",
    "plt.axvline(test_statistic_control, color = 'red')\n",
    "\n",
    "plt.show()"
   ]
  },
  {
   "cell_type": "code",
   "execution_count": null,
   "metadata": {},
   "outputs": [],
   "source": []
  }
 ],
 "metadata": {
  "kernelspec": {
   "display_name": "Python 3",
   "language": "python",
   "name": "python3"
  },
  "language_info": {
   "codemirror_mode": {
    "name": "ipython",
    "version": 3
   },
   "file_extension": ".py",
   "mimetype": "text/x-python",
   "name": "python",
   "nbconvert_exporter": "python",
   "pygments_lexer": "ipython3",
   "version": "3.7.7"
  }
 },
 "nbformat": 4,
 "nbformat_minor": 4
}
