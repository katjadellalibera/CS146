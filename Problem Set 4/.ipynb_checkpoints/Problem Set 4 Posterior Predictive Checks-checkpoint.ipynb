{
 "cells": [
  {
   "cell_type": "markdown",
   "metadata": {},
   "source": [
    "# Problem Set 4: Posterior Predictive Checks and other exercises.\n",
    "\n",
    "## Question 1: Posterior predictive tests medical trial\n",
    "- Choose test statistic that shows the non-hierarchical model does NOT explain the control group data well.\n",
    "- generate posterior samples from model\n",
    "- compare posterior of model and data set for the statistic\n",
    "<br>\n",
    "\n",
    "#### To submit:\n",
    "- Test statistic function\n",
    "- code for generating samples from the posterior\n",
    "- code for computing the test statistic\n",
    "- histogram analogous to Gelman 6.4 \n",
    "- p-value"
   ]
  },
  {
   "cell_type": "markdown",
   "metadata": {},
   "source": [
    "### Model 1 Summary\n",
    "##### Assumptions:\n",
    "- all studies have the same probability of success $\\theta_t$ for treatment, $\\theta_c$ for control.\n",
    "- binomial distribution in each study\n",
    "- uniform priors over $\\theta_t$ and $\\theta_c$\n",
    "\n",
    "##### Model:\n",
    "- Likelihood $\\prod_{i=1}^6{Binomial(s_i|\\theta,n_i)}$ \n",
    "- Prior: $Beta(\\theta|1,1)$ for $\\theta_t$ and $\\theta_c$\n",
    "- posterior for treatment group: $Beta(\\theta_t|108,35)$\n",
    "- posterior for control group: $Beta(\\theta_c|58,65)$"
   ]
  },
  {
   "cell_type": "markdown",
   "metadata": {},
   "source": [
    "### Model 2 Summary\n",
    "\n",
    "##### Assumptions:\n",
    "- each group (2) and each study (6) has a different probability of success\n",
    "- each probability is drawn from beta prior with parameters $\\alpha$ and $\\beta$\n",
    "- hyperprior on $\\alpha$ and $\\beta$: $Gamma(2,0.5)$\n",
    "\n",
    "##### Model:\n",
    "- Likelihood: $\\prod_{i=1}^6{Binomial(s_i|\\theta_i,n_i)}$ with each study having a $\\theta_i$ instead of the same $\\theta$ in model 1.\n",
    "- "
   ]
  }
 ],
 "metadata": {
  "kernelspec": {
   "display_name": "Python 3",
   "language": "python",
   "name": "python3"
  },
  "language_info": {
   "codemirror_mode": {
    "name": "ipython",
    "version": 3
   },
   "file_extension": ".py",
   "mimetype": "text/x-python",
   "name": "python",
   "nbconvert_exporter": "python",
   "pygments_lexer": "ipython3",
   "version": "3.7.7"
  }
 },
 "nbformat": 4,
 "nbformat_minor": 4
}
