{
 "cells": [
  {
   "cell_type": "markdown",
   "metadata": {},
   "source": [
    "# Problem Set 4: Posterior Predictive Checks and other exercises.\n",
    "\n",
    "**<div style=\"text-align: center\">\"All models are wrong, but some are useful\"</div>**<br>\n",
    " <div style=\"text-align: right\"> George E.P. Box </div>\n",
    "\n",
    "## Posterior predictive tests medical trial\n",
    "- Choose test statistic that shows the non-hierarchical model does NOT explain the control group data well.\n",
    "- generate posterior samples from model\n",
    "- compare posterior of model and data set for the statistic\n",
    "<br>\n",
    "\n",
    "#### To submit:\n",
    "- Test statistic function\n",
    "- code for generating samples from the posterior\n",
    "- code for computing the test statistic\n",
    "- histogram analogous to Gelman 6.4 \n",
    "- p-value"
   ]
  },
  {
   "cell_type": "markdown",
   "metadata": {},
   "source": [
    "### Non-hierarchical Model Summary\n",
    "##### Assumptions:\n",
    "- all studies have the same probability of success $\\theta_t$ for treatment, $\\theta_c$ for control.\n",
    "- binomial distribution in each study\n",
    "- uniform priors over $\\theta_t$ and $\\theta_c$\n",
    "\n",
    "##### Model:\n",
    "- Likelihood $\\prod_{i=1}^6{Binomial(s_i|\\theta,n_i)}$ \n",
    "- Prior: $Beta(\\theta|1,1)$ for $\\theta_t$ and $\\theta_c$\n",
    "- posterior for treatment group: $Beta(\\theta_t|108,35)$\n",
    "- posterior for control group: $Beta(\\theta_c|58,65)$"
   ]
  },
  {
   "cell_type": "code",
   "execution_count": 1,
   "metadata": {},
   "outputs": [],
   "source": [
    "import numpy as np\n",
    "import scipy.stats as sts\n",
    "from scipy.special import betaln\n",
    "import matplotlib.pyplot as plt"
   ]
  },
  {
   "cell_type": "code",
   "execution_count": 2,
   "metadata": {},
   "outputs": [],
   "source": [
    "# The control group data set from the original pre-class work\n",
    "control_group_size = [15,18,10,39,29,10]\n",
    "control_group_successes = [9,11,4,21,12,0]"
   ]
  },
  {
   "cell_type": "code",
   "execution_count": 3,
   "metadata": {},
   "outputs": [],
   "source": [
    "# a function for generating fake data from the posterior\n",
    "def nonhierarchical_rvs(n):\n",
    "    data = []\n",
    "    # generate n fake data sets\n",
    "    for i in range(n): \n",
    "        #sample a probability theta_c from the posterior\n",
    "        current_p = sts.beta.rvs(58,65, size = 1)\n",
    "        sample = []\n",
    "        # generat groups of the same size as the original control groups\n",
    "        for group_size in control_group_size:\n",
    "            sample.append(sts.binom.rvs(group_size,current_p))\n",
    "        data.append(sample)\n",
    "    return data"
   ]
  },
  {
   "cell_type": "code",
   "execution_count": 4,
   "metadata": {},
   "outputs": [
    {
     "name": "stdout",
     "output_type": "stream",
     "text": [
      "[[3, 5, 5, 17, 13, 3], [5, 10, 6, 15, 14, 8], [7, 9, 5, 18, 10, 7], [12, 8, 4, 19, 17, 4], [7, 13, 5, 16, 15, 2], [7, 9, 3, 23, 20, 3], [8, 10, 4, 18, 12, 5], [7, 9, 4, 17, 7, 4], [3, 7, 5, 16, 13, 1], [6, 11, 6, 18, 17, 8]]\n"
     ]
    }
   ],
   "source": [
    "# generate 1000 samples for the \n",
    "posterior_data = nonhierarchical_rvs(100000)\n",
    "print(posterior_data[:10])"
   ]
  },
  {
   "cell_type": "markdown",
   "metadata": {},
   "source": [
    "After inputting the observed data and generating 100000 datasets with the same number of patients and probability of success sampled from our model, we can look at different scalar parameters that are basically a one-number summary of some aspect of our data. "
   ]
  },
  {
   "cell_type": "code",
   "execution_count": 5,
   "metadata": {},
   "outputs": [],
   "source": [
    "# function defining three example test statistics\n",
    "def test_statistic(data,name):\n",
    "    stats = {'range': np.ptp,\n",
    "            'mean' : np.mean,\n",
    "            'variance': np.var,\n",
    "            'minimum': np.min,\n",
    "            'maximum': np.max}\n",
    "    return stats[name](data)"
   ]
  },
  {
   "cell_type": "code",
   "execution_count": 6,
   "metadata": {},
   "outputs": [],
   "source": [
    "# function calculating the test statistic for the data set and calculating the p value\n",
    "def create_plot(posterior_samples, data, name):\n",
    "    # calculate the test statistic for the posterior samples\n",
    "    # and the control group data\n",
    "    test_statistic_posterior = [test_statistic(x, name) for x in posterior_data]\n",
    "    test_statistic_control = test_statistic(control_group_successes, name)\n",
    "\n",
    "    # create plot\n",
    "    plt.hist(test_statistic_posterior, label = 'posterior samples')\n",
    "    plt.axvline(test_statistic_control, color = 'red',label = 'data')\n",
    "    plt.xlabel(name)\n",
    "    plt.title('Test statistic ({}) distribution on replicated data'.format(name))\n",
    "    plt.show()\n",
    "    \n",
    "    # calculate p-value\n",
    "    print(name,'statistic P-value: %.3f' % (\n",
    "    np.mean(np.array(test_statistic_posterior) > test_statistic_control)))"
   ]
  },
  {
   "cell_type": "markdown",
   "metadata": {},
   "source": [
    "One statistic that is our model is unsurprisingly predicting pretty well is the mean. This makes sense because our model assumes that all experiments have the same probability of success and if that was the case the mean is similar distributed than if there is huge variance between the probabilities of success for each experiment. <br>\n",
    "The p-value for the mean is 0.476 which is close to 0.5."
   ]
  },
  {
   "cell_type": "code",
   "execution_count": 7,
   "metadata": {},
   "outputs": [
    {
     "data": {
      "image/png": "[encoded data removed]",
      "text/plain": [
       "<Figure size 432x288 with 1 Axes>"
      ]
     },
     "metadata": {
      "needs_background": "light"
     },
     "output_type": "display_data"
    },
    {
     "name": "stdout",
     "output_type": "stream",
     "text": [
      "mean statistic P-value: 0.476\n"
     ]
    }
   ],
   "source": [
    "create_plot(posterior_data, control_group_successes,'mean')"
   ]
  },
  {
   "cell_type": "markdown",
   "metadata": {},
   "source": [
    "Talking of variance, this is the next test statistic I was interested in. The variance of the simulated dataset is consistently much lower than the variance in the observed data. The p-value here is 0.124, which is not good, but also not below our threshold of 0.05 or above 0.95."
   ]
  },
  {
   "cell_type": "code",
   "execution_count": 8,
   "metadata": {},
   "outputs": [
    {
     "data": {
      "image/png": "[encoded data removed]",
      "text/plain": [
       "<Figure size 432x288 with 1 Axes>"
      ]
     },
     "metadata": {
      "needs_background": "light"
     },
     "output_type": "display_data"
    },
    {
     "name": "stdout",
     "output_type": "stream",
     "text": [
      "variance statistic P-value: 0.124\n"
     ]
    }
   ],
   "source": [
    "create_plot(posterior_data, control_group_successes,'variance')"
   ]
  },
  {
   "cell_type": "markdown",
   "metadata": {},
   "source": [
    "We can do better (or I guess worse).<br>\n",
    "In my search for a test statistic that is really not captured by the model, I found the range of values so the maximum-minimum of each data set. <br>\n",
    "The p-value of this metric is 0.028, so below 0.05, which suggests our model really does not capture the extreme values of the data."
   ]
  },
  {
   "cell_type": "code",
   "execution_count": 9,
   "metadata": {},
   "outputs": [
    {
     "data": {
      "image/png": "[encoded data removed]",
      "text/plain": [
       "<Figure size 432x288 with 1 Axes>"
      ]
     },
     "metadata": {
      "needs_background": "light"
     },
     "output_type": "display_data"
    },
    {
     "name": "stdout",
     "output_type": "stream",
     "text": [
      "range statistic P-value: 0.028\n"
     ]
    }
   ],
   "source": [
    "create_plot(posterior_data, control_group_successes,'range')"
   ]
  },
  {
   "cell_type": "markdown",
   "metadata": {},
   "source": [
    "Just for fun, here are two more test statistics, the min and max. The min falls above the 0.95 threshold with a p-value of 0.995, but the max is doing somewhat better with a p-value of 0.195."
   ]
  },
  {
   "cell_type": "code",
   "execution_count": 10,
   "metadata": {},
   "outputs": [
    {
     "data": {
      "image/png": "[encoded data removed]",
      "text/plain": [
       "<Figure size 432x288 with 1 Axes>"
      ]
     },
     "metadata": {
      "needs_background": "light"
     },
     "output_type": "display_data"
    },
    {
     "name": "stdout",
     "output_type": "stream",
     "text": [
      "minimum statistic P-value: 0.995\n"
     ]
    },
    {
     "data": {
      "image/png": "[encoded data removed]",
      "text/plain": [
       "<Figure size 432x288 with 1 Axes>"
      ]
     },
     "metadata": {
      "needs_background": "light"
     },
     "output_type": "display_data"
    },
    {
     "name": "stdout",
     "output_type": "stream",
     "text": [
      "maximum statistic P-value: 0.195\n"
     ]
    }
   ],
   "source": [
    "create_plot(posterior_data, control_group_successes,'minimum')\n",
    "create_plot(posterior_data, control_group_successes,'maximum')"
   ]
  }
 ],
 "metadata": {
  "kernelspec": {
   "display_name": "Python 3",
   "language": "python",
   "name": "python3"
  },
  "language_info": {
   "codemirror_mode": {
    "name": "ipython",
    "version": 3
   },
   "file_extension": ".py",
   "mimetype": "text/x-python",
   "name": "python",
   "nbconvert_exporter": "python",
   "pygments_lexer": "ipython3",
   "version": "3.7.7"
  }
 },
 "nbformat": 4,
 "nbformat_minor": 4
}
